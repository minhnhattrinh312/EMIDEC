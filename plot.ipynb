{
 "cells": [
  {
   "cell_type": "code",
   "execution_count": 30,
   "metadata": {},
   "outputs": [],
   "source": [
    "from segment2d import *\n",
    "import numpy as np\n",
    "import csv\n",
    "from matplotlib import pyplot as plt\n",
    "from ipywidgets import interact\n",
    "# visualize the image and mask in z axis using interact, image and mask are in one slice\n",
    "def plot_image_mask_z(image, mask, z, prediction=None):\n",
    "    fig, ax = plt.subplots(1, 2, figsize=(10, 5))\n",
    "    ax[0].imshow(image[..., z], cmap=\"gray\")\n",
    "    ax[0].set_title(\"Image\")\n",
    "    ax[0].imshow(mask[..., z], cmap=\"jet\", alpha=0.3)\n",
    "    if prediction is not None:\n",
    "        ax[1].imshow(image[..., z], cmap=\"gray\")\n",
    "        ax[1].set_title(\"Image prediction\")\n",
    "        ax[1].imshow(prediction[..., z], cmap=\"jet\", alpha=0.3)\n",
    "\n",
    "    plt.show()"
   ]
  },
  {
   "cell_type": "code",
   "execution_count": 31,
   "metadata": {},
   "outputs": [],
   "source": [
    "def preprocess_data(image_path):\n",
    "    data = {}\n",
    "    image = nib.load(image_path).get_fdata()\n",
    "\n",
    "    image = min_max_normalize(image)\n",
    "\n",
    "    padded_image, crop_index, padded_index = pad_background(image, dim2pad=cfg.DATA.DIM2PAD)\n",
    "    # padded_mask = pad_background_with_index(mask, crop_index, padded_index, dim2pad=cfg.DATA.DIM2PAD)\n",
    "    data[\"crop_index\"] = crop_index\n",
    "    data[\"padded_index\"] = padded_index\n",
    "    data[\"original_shape\"] = image.shape\n",
    "    batch_images = []\n",
    "    for i in range(padded_image.shape[-1]):\n",
    "        slice_inputs = padded_image[..., i : i + 1]  # shape (224, 224, 1)\n",
    "        slices_image = torch.from_numpy(slice_inputs.transpose(-1, 0, 1))  # shape (1, 224, 224)\n",
    "        batch_images.append(slices_image)\n",
    "\n",
    "    batch_images = torch.stack(batch_images).float()  # shape (9,1, 224, 224)\n",
    "    data[\"image\"] = batch_images\n",
    "    return data\n",
    "\n",
    "\n",
    "def predict_data(data, segmenter, threshold=100, task=\"train_combine\"):\n",
    "    probability_output = segmenter.predict_patches(data[\"image\"])  # shape (n, 5, 128, 128)\n",
    "    seg = np.argmax(probability_output, axis=1).transpose(1, 2, 0)  # shape (128, 128, n)\n",
    "    seg = remove_small_elements(seg, min_size_remove=1000)\n",
    "    if np.sum(seg==3) + np.sum(seg==4) < threshold:\n",
    "        # convert 3 to 2\n",
    "        seg[seg == 3] = 2\n",
    "        seg[seg == 4] = 2\n",
    "    if task == \"train_combine\":\n",
    "        seg[seg == 4] = 3\n",
    "    invert_seg = invert_padding(data[\"original_shape\"], seg, data[\"crop_index\"], data[\"padded_index\"])\n",
    "    return invert_seg"
   ]
  },
  {
   "cell_type": "code",
   "execution_count": 32,
   "metadata": {},
   "outputs": [],
   "source": [
    "task = \"train_combine\"\n",
    "task = \"train_full\"\n",
    "num_classes = 4 if task == \"train_combine\" else 5\n",
    "with open(\"./test.csv\", mode=\"r\") as f:\n",
    "    reader = csv.DictReader(f)\n",
    "    list_test_subject = [row[\"path\"] for row in reader]\n",
    "device = torch.device(\"cuda\" if torch.cuda.is_available() else \"cpu\")\n",
    "model = FCDenseNet(in_channels=cfg.DATA.INDIM_MODEL, n_classes=num_classes)\n",
    "list_mask_test_dataset = [x.replace(\"Images\", \"Contours\") for x in list_test_subject]\n",
    "test_dataset = EMIDEC_Test_Loader(list_test_subject)\n",
    "segmenter = Segmenter(\n",
    "    model,\n",
    "    cfg.DATA.CLASS_WEIGHT,\n",
    "    5,\n",
    "    0.001,\n",
    "    0.5,\n",
    "    50,\n",
    ")\n",
    "segmenter.eval()\n",
    "if task == \"train_combine\":\n",
    "    checkpoint = \"./weights_train_combine/dice_0.7721.ckpt\"\n",
    "else:\n",
    "    checkpoint = \"./weights_train_full/myo_0.9266.ckpt\"\n",
    "segmenter = Segmenter.load_from_checkpoint(\n",
    "    checkpoint_path=checkpoint,\n",
    "    model=model,\n",
    "    class_weight=cfg.DATA.CLASS_WEIGHT,\n",
    "    num_classes=num_classes,\n",
    "    learning_rate=0.001,\n",
    "    factor_lr=0.5,\n",
    "    patience_lr=50,\n",
    ")\n",
    "segmenter = segmenter.to(device)"
   ]
  },
  {
   "cell_type": "markdown",
   "metadata": {},
   "source": [
    "# combine MI + PMO"
   ]
  },
  {
   "cell_type": "code",
   "execution_count": 55,
   "metadata": {},
   "outputs": [],
   "source": [
    "MI_test_pts = [\n",
    "    \"Case_P050\",\n",
    "    \"Case_P087\",\n",
    "    \"Case_P001\",\n",
    "    \"Case_P010\",\n",
    "    \"Case_P017\",\n",
    "    \"Case_P029\",\n",
    "    \"Case_P090\",\n",
    "    \"Case_P038\",\n",
    "    \"Case_N052\",\n",
    "    \"Case_N016\",\n",
    "    \"Case_P100\",\n",
    "    \"Case_P043\",\n",
    "    \"Case_P051\",\n",
    "    \"Case_N030\",\n",
    "    \"Case_P007\",\n",
    "    \"Case_P088\",\n",
    "    \"Case_N025\",\n",
    "    \"Case_P076\",\n",
    "    \"Case_N046\",\n",
    "    \"Case_N054\",\n",
    "    \"Case_N049\",\n",
    "    \"Case_N041\",\n",
    "    \"Case_N023\",\n",
    "    \"Case_P026\",\n",
    "    \"Case_P031\",\n",
    "    \"Case_N024\",\n",
    "    \"Case_P064\",\n",
    "    \"Case_P021\",\n",
    "    \"Case_P015\",\n",
    "    \"Case_P094\",\n",
    "]\n",
    "task = \"train_combine\"\n",
    "num_classes = 4 if task == \"train_combine\" else 5\n",
    "with open(\"./test.csv\", mode=\"r\") as f:\n",
    "    reader = csv.DictReader(f)\n",
    "    list_test_subject = [row[\"path\"] for row in reader]\n",
    "device = torch.device(\"cuda\" if torch.cuda.is_available() else \"cpu\")\n",
    "model = FCDenseNet(in_channels=cfg.DATA.INDIM_MODEL, n_classes=num_classes)\n",
    "list_mask_test_dataset = [x.replace(\"Images\", \"Contours\") for x in list_test_subject]\n",
    "test_dataset = EMIDEC_Test_Loader(list_test_subject)\n",
    "segmenter = Segmenter(\n",
    "    model,\n",
    "    cfg.DATA.CLASS_WEIGHT,\n",
    "    5,\n",
    "    0.001,\n",
    "    0.5,\n",
    "    50,\n",
    ")\n",
    "segmenter.eval()\n",
    "if task == \"train_combine\":\n",
    "    checkpoint = \"./weights_train_combine/dice_0.7721.ckpt\"\n",
    "else:\n",
    "    checkpoint = \"./weights_train_full/myo_0.9266.ckpt\"\n",
    "segmenter = Segmenter.load_from_checkpoint(\n",
    "    checkpoint_path=checkpoint,\n",
    "    model=model,\n",
    "    class_weight=cfg.DATA.CLASS_WEIGHT,\n",
    "    num_classes=num_classes,\n",
    "    learning_rate=0.001,\n",
    "    factor_lr=0.5,\n",
    "    patience_lr=50,\n",
    ")\n",
    "segmenter = segmenter.to(device)"
   ]
  },
  {
   "cell_type": "code",
   "execution_count": 57,
   "metadata": {},
   "outputs": [
    {
     "name": "stdout",
     "output_type": "stream",
     "text": [
      "Case_N024 myo: 0.8879, lv: 0.9636, mi: 1.0000\n",
      "Case_N054 myo: 0.8900, lv: 0.9506, mi: 1.0000\n",
      "Case_N023 myo: 0.8569, lv: 0.9519, mi: 1.0000\n",
      "Case_P100 myo: 0.8660, lv: 0.9364, mi: 0.4352\n",
      "Case_P007 myo: 0.8541, lv: 0.9413, mi: 0.4738\n",
      "Case_P038 myo: 0.8035, lv: 0.9442, mi: 0.7634\n",
      "Case_P021 myo: 0.8877, lv: 0.9255, mi: 0.2780\n",
      "Case_P087 myo: 0.8590, lv: 0.9326, mi: 0.6469\n"
     ]
    }
   ],
   "source": [
    "dice_scores = {\"dice_myocardium\": [], \"dice_lv\": [], \"dice_mi\": []}\n",
    "dice_scores_combined = {\"dice_myocardium\": [], \"dice_lv\": []}\n",
    "\n",
    "for i in range(len(list_test_subject)):\n",
    "    id_patient = list_test_subject[i].split(\"/\")[-3]\n",
    "    # if id_patient not in [\"Case_N023\"]:\n",
    "    if id_patient not in MI_test_pts:\n",
    "        continue\n",
    "    test_image = nib.load(list_test_subject[i]).get_fdata()\n",
    "    mask_image = nib.load(list_test_subject[i].replace(\"Images\", \"Contours\")).get_fdata()\n",
    "    mask_image[mask_image == 4] = 3\n",
    "    data = preprocess_data(list_test_subject[i])\n",
    "    seg = predict_data(data, segmenter, threshold=76, task=task).astype(np.uint8)\n",
    "    dice_myo = dice_volume(mask_image, seg, class_index=2)\n",
    "    dice_lv = dice_volume(mask_image, seg, class_index=1)\n",
    "    dice_mi = dice_volume(mask_image, seg, class_index=3)\n",
    "    # print(\"number of MI: \", np.sum(seg==3))\n",
    "    dice_scores[\"dice_myocardium\"].append(dice_myo)\n",
    "    dice_scores[\"dice_lv\"].append(dice_lv)\n",
    "    dice_scores[\"dice_mi\"].append(dice_mi)\n",
    "\n",
    "    seg_combined = seg.copy()\n",
    "    seg_combined[seg_combined == 3] = 2\n",
    "    mask_combined = mask_image.copy()\n",
    "    mask_combined[mask_combined == 3] = 2\n",
    "\n",
    "    dice_myo_combined = dice_volume(mask_combined, seg_combined, class_index=2)\n",
    "    dice_lv_combined = dice_volume(mask_combined, seg_combined, class_index=1)\n",
    "    dice_scores_combined[\"dice_myocardium\"].append(dice_myo_combined)\n",
    "    dice_scores_combined[\"dice_lv\"].append(dice_lv_combined)\n",
    "\n",
    "    print(f\"{id_patient} myo: {dice_myo:0.4f}, lv: {dice_lv:0.4f}, mi: {dice_mi:0.4f}\")\n",
    "    # print(f\"patient {id_patient} dice myo: {dice_myo_combined:0.4f}, dice lv: {dice_lv_combined:0.4f}\")\n",
    "    # print(\n",
    "    #     f\"patient {id_patient} dice myo: {dice_myo_disease:0.4f}, dice lv: {dice_lv_disease:0.4f}, dice mi: {dice_mi_disease:0.4f}\"\n",
    "    # )"
   ]
  },
  {
   "cell_type": "code",
   "execution_count": 31,
   "metadata": {},
   "outputs": [
    {
     "name": "stdout",
     "output_type": "stream",
     "text": [
      "mean dice dice_myocardium: 0.8321\n",
      "mean dice dice_lv: 0.9368\n",
      "mean dice dice_mi: 0.7060\n"
     ]
    }
   ],
   "source": [
    "# calculate mean dice\n",
    "for keys in dice_scores.keys():\n",
    "    print(f\"mean dice {keys}: {np.mean(dice_scores[keys]):0.4f}\")"
   ]
  },
  {
   "cell_type": "code",
   "execution_count": null,
   "metadata": {},
   "outputs": [
    {
     "data": {
      "application/vnd.jupyter.widget-view+json": {
       "model_id": "8944cc70a7934864a32c81169a34fb1e",
       "version_major": 2,
       "version_minor": 0
      },
      "text/plain": [
       "interactive(children=(IntSlider(value=3, description='z', max=7), Output()), _dom_classes=('widget-interact',)…"
      ]
     },
     "metadata": {},
     "output_type": "display_data"
    },
    {
     "data": {
      "text/plain": [
       "<function __main__.<lambda>(z)>"
      ]
     },
     "execution_count": 29,
     "metadata": {},
     "output_type": "execute_result"
    }
   ],
   "source": [
    "interact(lambda z: plot_image_mask_z(test_image, mask_image, z, seg), z=(0, test_image.shape[-1] - 1))"
   ]
  },
  {
   "cell_type": "markdown",
   "metadata": {},
   "source": [
    "# Full class"
   ]
  },
  {
   "cell_type": "code",
   "execution_count": 62,
   "metadata": {},
   "outputs": [],
   "source": [
    "MI_test_pts = [\n",
    "    \"Case_P050\",\n",
    "    \"Case_P087\",\n",
    "    \"Case_P001\",\n",
    "    \"Case_P010\",\n",
    "    \"Case_P017\",\n",
    "    \"Case_P029\",\n",
    "    \"Case_P090\",\n",
    "    \"Case_P038\",\n",
    "    \"Case_N052\",\n",
    "    \"Case_N016\",\n",
    "    \"Case_P100\",\n",
    "    \"Case_P043\",\n",
    "    \"Case_P051\",\n",
    "    \"Case_N030\",\n",
    "    \"Case_P007\",\n",
    "    \"Case_P088\",\n",
    "    \"Case_N025\",\n",
    "    \"Case_P076\",\n",
    "    \"Case_N046\",\n",
    "    \"Case_N054\",\n",
    "    \"Case_N049\",\n",
    "    \"Case_N041\",\n",
    "    \"Case_N023\",\n",
    "    \"Case_P026\",\n",
    "    \"Case_P031\",\n",
    "    \"Case_N024\",\n",
    "    \"Case_P064\",\n",
    "    \"Case_P021\",\n",
    "    \"Case_P015\",\n",
    "    \"Case_P094\",\n",
    "]\n",
    "# get path from list patient id\n",
    "list_test_subject = []\n",
    "for patiend_id in MI_test_pts:\n",
    "    path = f\"./emidec-dataset-1.0.1/{patiend_id}/Images/{patiend_id}.nii.gz\"\n",
    "    list_test_subject.append(path)"
   ]
  },
  {
   "cell_type": "code",
   "execution_count": null,
   "metadata": {},
   "outputs": [],
   "source": [
    "\n",
    "with open(\"./test.csv\", mode=\"r\") as f:\n",
    "    reader = csv.DictReader(f)\n",
    "    list_test_subject = [row[\"path\"] for row in reader]\n",
    "\n"
   ]
  },
  {
   "cell_type": "code",
   "execution_count": 63,
   "metadata": {},
   "outputs": [],
   "source": [
    "task = \"train_full\"\n",
    "list_mask_test_dataset = [x.replace(\"Images\", \"Contours\") for x in list_test_subject]\n",
    "num_classes = 4 if task == \"train_combine\" else 5\n",
    "test_dataset = EMIDEC_Test_Loader(list_test_subject)\n",
    "device = torch.device(\"cuda\" if torch.cuda.is_available() else \"cpu\")\n",
    "model = FCDenseNet(in_channels=cfg.DATA.INDIM_MODEL, n_classes=num_classes)\n",
    "segmenter = Segmenter(\n",
    "    model,\n",
    "    cfg.DATA.CLASS_WEIGHT,\n",
    "    5,\n",
    "    0.001,\n",
    "    0.5,\n",
    "    50,\n",
    ")\n",
    "segmenter.eval()\n",
    "if task == \"train_combine\":\n",
    "    checkpoint = \"./weights_train_combine/dice_0.7721.ckpt\"\n",
    "else:\n",
    "    checkpoint = \"./weights_train_full/myo_0.9266.ckpt\"\n",
    "segmenter = Segmenter.load_from_checkpoint(\n",
    "    checkpoint_path=checkpoint,\n",
    "    model=model,\n",
    "    class_weight=cfg.DATA.CLASS_WEIGHT,\n",
    "    num_classes=num_classes,\n",
    "    learning_rate=0.001,\n",
    "    factor_lr=0.5,\n",
    "    patience_lr=50,\n",
    ")\n",
    "segmenter = segmenter.to(device)"
   ]
  },
  {
   "cell_type": "code",
   "execution_count": 65,
   "metadata": {},
   "outputs": [
    {
     "name": "stdout",
     "output_type": "stream",
     "text": [
      "number of PMO:  442\n",
      "Case_P050 myo: 0.8979, lv: 0.9774, mi: 0.9055, pmo: 0.8743\n",
      "Case_P087 myo: 0.8448, lv: 0.9111, mi: 0.5111, pmo: 1.0000\n",
      "number of PMO:  1505\n",
      "Case_P001 myo: 0.8817, lv: 0.9770, mi: 0.8998, pmo: 0.9300\n",
      "number of PMO:  18\n",
      "Case_P010 myo: 0.9382, lv: 0.9633, mi: 0.8323, pmo: 0.9714\n",
      "Case_P017 myo: 0.9041, lv: 0.9695, mi: 0.8161, pmo: 1.0000\n",
      "number of PMO:  189\n",
      "Case_P029 myo: 0.8982, lv: 0.9766, mi: 0.8730, pmo: 0.8883\n",
      "Case_P090 myo: 0.8584, lv: 0.9604, mi: 0.8261, pmo: 1.0000\n",
      "Case_P038 myo: 0.7803, lv: 0.9415, mi: 0.7635, pmo: 0.0000\n",
      "Case_N052 myo: 0.9184, lv: 0.9589, mi: 1.0000, pmo: 1.0000\n",
      "Case_N016 myo: 0.9182, lv: 0.9500, mi: 1.0000, pmo: 1.0000\n",
      "number of PMO:  29\n",
      "Case_P100 myo: 0.8538, lv: 0.9321, mi: 0.5455, pmo: 0.0000\n",
      "number of PMO:  252\n",
      "Case_P043 myo: 0.8710, lv: 0.9742, mi: 0.8791, pmo: 0.8816\n",
      "Case_P051 myo: 0.9123, lv: 0.9689, mi: 0.8291, pmo: 1.0000\n",
      "Case_N030 myo: 0.9217, lv: 0.9500, mi: 1.0000, pmo: 1.0000\n",
      "Case_P007 myo: 0.8790, lv: 0.9522, mi: 0.4664, pmo: 1.0000\n",
      "Case_P088 myo: 0.9020, lv: 0.9709, mi: 0.8506, pmo: 1.0000\n",
      "Case_N025 myo: 0.9143, lv: 0.9599, mi: 1.0000, pmo: 1.0000\n",
      "number of PMO:  431\n",
      "Case_P076 myo: 0.8845, lv: 0.9685, mi: 0.8760, pmo: 0.8909\n",
      "Case_N046 myo: 0.9094, lv: 0.9587, mi: 1.0000, pmo: 1.0000\n",
      "Case_N054 myo: 0.8903, lv: 0.9403, mi: 1.0000, pmo: 1.0000\n",
      "Case_N049 myo: 0.9093, lv: 0.9629, mi: 1.0000, pmo: 1.0000\n",
      "Case_N041 myo: 0.9369, lv: 0.9594, mi: 1.0000, pmo: 1.0000\n",
      "Case_N023 myo: 0.8702, lv: 0.9490, mi: 1.0000, pmo: 1.0000\n",
      "Case_P026 myo: 0.9005, lv: 0.9720, mi: 0.8411, pmo: 1.0000\n",
      "Case_P031 myo: 0.9144, lv: 0.9633, mi: 0.7711, pmo: 1.0000\n",
      "Case_N024 myo: 0.8494, lv: 0.9536, mi: 1.0000, pmo: 1.0000\n",
      "number of PMO:  30\n",
      "Case_P064 myo: 0.8847, lv: 0.9684, mi: 0.8340, pmo: 0.8333\n",
      "number of PMO:  50\n",
      "Case_P021 myo: 0.8863, lv: 0.9306, mi: 0.3603, pmo: 0.4051\n",
      "number of PMO:  25\n",
      "Case_P015 myo: 0.8566, lv: 0.9707, mi: 0.8866, pmo: 0.8980\n",
      "Case_P094 myo: 0.8784, lv: 0.9749, mi: 0.8904, pmo: 1.0000\n"
     ]
    }
   ],
   "source": [
    "dice_scores = {\"dice_myocardium\": [], \"dice_lv\": [], \"dice_mi\": [], \"dice_pmo\": []}\n",
    "dice_scores_combined = {\"dice_myocardium\": [], \"dice_lv\": []}\n",
    "dice_scores_disease = {\"dice_myocardium\": [], \"dice_lv\": [], \"dice_MI\": []}\n",
    "for i  in range(len(list_test_subject)):\n",
    "    id_patient = list_test_subject[i].split(\"/\")[-3]\n",
    "    test_image = nib.load(list_test_subject[i]).get_fdata()\n",
    "    mask_image = nib.load(list_mask_test_dataset[i]).get_fdata()\n",
    "    # if id_patient not in MI_test_pts:\n",
    "    #     continue\n",
    "    data = preprocess_data(list_test_subject[i])\n",
    "    seg = predict_data(data, segmenter, threshold=50, task=task).astype(np.uint8)\n",
    "    # print(\"number of MI: \", np.sum(seg==3))\n",
    "    if np.sum(mask_image == 4) > 0:\n",
    "        print(\"number of PMO: \", np.sum(mask_image == 4))\n",
    "    dice_myo = dice_volume(mask_image, seg, class_index=2)\n",
    "    dice_lv = dice_volume(mask_image, seg, class_index=1)\n",
    "    dice_mi = dice_volume(mask_image, seg, class_index=3)\n",
    "    dice_pmo = dice_volume(mask_image, seg, class_index=4)\n",
    "    dice_scores[\"dice_myocardium\"].append(dice_myo)\n",
    "    dice_scores[\"dice_lv\"].append(dice_lv)\n",
    "    dice_scores[\"dice_mi\"].append(dice_mi)\n",
    "    dice_scores[\"dice_pmo\"].append(dice_pmo)\n",
    "    seg_combined = seg.copy()\n",
    "    seg_combined[seg_combined == 3] = 2\n",
    "    seg_combined[seg_combined == 4] = 2\n",
    "    mask_combined = mask_image.copy()\n",
    "    mask_combined[mask_combined == 3] = 2\n",
    "    mask_combined[mask_combined == 4] = 2\n",
    "    dice_myo_combined = dice_volume(mask_combined, seg_combined, class_index=2)\n",
    "    dice_lv_combined = dice_volume(mask_combined, seg_combined, class_index=1)\n",
    "    dice_scores_combined[\"dice_myocardium\"].append(dice_myo_combined)\n",
    "    dice_scores_combined[\"dice_lv\"].append(dice_lv_combined)\n",
    "    seg_disease = seg.copy()\n",
    "\n",
    "    seg_disease[seg_disease == 4] = 3\n",
    "    mask_disease = mask_image.copy()\n",
    "    mask_disease[mask_disease == 4] = 3\n",
    "    dice_myo_disease = dice_volume(mask_disease, seg_disease, class_index=2)\n",
    "    dice_lv_disease = dice_volume(mask_disease, seg_disease, class_index=1)\n",
    "    dice_mi_disease = dice_volume(mask_disease, seg_disease, class_index=3)\n",
    "    dice_scores_disease[\"dice_myocardium\"].append(dice_myo_disease)\n",
    "    dice_scores_disease[\"dice_lv\"].append(dice_lv_disease)\n",
    "    dice_scores_disease[\"dice_MI\"].append(dice_mi_disease)\n",
    "    print(f\"{id_patient} myo: {dice_myo:0.4f}, lv: {dice_lv:0.4f}, mi: {dice_mi:0.4f}, pmo: {dice_pmo:0.4f}\")\n",
    "    # print(f\"patient {id_patient} dice myo: {dice_myo_combined:0.4f}, dice lv: {dice_lv_combined:0.4f}\")\n",
    "    # print(f\"patient {id_patient} dice myo: {dice_myo_disease:0.4f}, dice lv: {dice_lv_disease:0.4f}, dice mi: {dice_mi_disease:0.4f}\")"
   ]
  },
  {
   "cell_type": "code",
   "execution_count": 39,
   "metadata": {},
   "outputs": [
    {
     "data": {
      "text/plain": [
       "0"
      ]
     },
     "execution_count": 39,
     "metadata": {},
     "output_type": "execute_result"
    }
   ],
   "source": [
    "np.sum(seg==4)"
   ]
  },
  {
   "cell_type": "code",
   "execution_count": 10,
   "metadata": {},
   "outputs": [
    {
     "name": "stdout",
     "output_type": "stream",
     "text": [
      "patient Case_P072 dice myo: 0.7927, dice lv: 0.9452, dice mi: 0.7727\n"
     ]
    }
   ],
   "source": [
    "dice_scores = {\"dice_myocardium\": [], \"dice_lv\": [], \"dice_mi\": [], \"dice_pmo\": []}\n",
    "dice_scores_combined = {\"dice_myocardium\": [], \"dice_lv\": []}\n",
    "dice_scores_disease = {\"dice_myocardium\": [], \"dice_lv\": [], \"dice_MI\": []}\n",
    "i = -2\n",
    "id_patient = list_test_subject[i].split(\"/\")[-3]\n",
    "test_image = nib.load(list_test_subject[i]).get_fdata()\n",
    "mask_image = nib.load(list_mask_test_dataset[i]).get_fdata()\n",
    "data = preprocess_data(list_test_subject[i])\n",
    "seg = predict_data(data, segmenter).astype(np.uint8)\n",
    "dice_myo = dice_volume(mask_image, seg, class_index=2)\n",
    "dice_lv = dice_volume(mask_image, seg, class_index=1)\n",
    "dice_mi = dice_volume(mask_image, seg, class_index=3)\n",
    "dice_pmo = dice_volume(mask_image, seg, class_index=4)\n",
    "dice_scores[\"dice_myocardium\"].append(dice_myo)\n",
    "dice_scores[\"dice_lv\"].append(dice_lv)\n",
    "dice_scores[\"dice_mi\"].append(dice_mi)\n",
    "dice_scores[\"dice_pmo\"].append(dice_pmo)\n",
    "seg_combined = seg.copy()\n",
    "seg_combined[seg_combined == 3] = 2\n",
    "seg_combined[seg_combined == 4] = 2\n",
    "mask_combined = mask_image.copy()\n",
    "mask_combined[mask_combined == 3] = 2\n",
    "mask_combined[mask_combined == 4] = 2\n",
    "dice_myo_combined = dice_volume(mask_combined, seg_combined, class_index=2)\n",
    "dice_lv_combined = dice_volume(mask_combined, seg_combined, class_index=1)\n",
    "dice_scores_combined[\"dice_myocardium\"].append(dice_myo_combined)\n",
    "dice_scores_combined[\"dice_lv\"].append(dice_lv_combined)\n",
    "\n",
    "seg_disease = seg.copy()\n",
    "seg_disease[seg_disease == 4] = 3\n",
    "mask_disease = mask_image.copy()\n",
    "mask_disease[mask_disease == 4] = 3\n",
    "dice_myo_disease = dice_volume(mask_disease, seg_disease, class_index=2)\n",
    "dice_lv_disease = dice_volume(mask_disease, seg_disease, class_index=1)\n",
    "dice_mi_disease = dice_volume(mask_disease, seg_disease, class_index=3)\n",
    "dice_scores_disease[\"dice_myocardium\"].append(dice_myo_disease)\n",
    "dice_scores_disease[\"dice_lv\"].append(dice_lv_disease)\n",
    "dice_scores_disease[\"dice_MI\"].append(dice_mi_disease)\n",
    "# print(f\"{id_patient} myo: {dice_myo:0.4f}, lv: {dice_lv:0.4f}, mi: {dice_mi:0.4f}, pmo: {dice_pmo:0.4f}\")\n",
    "print(f\"patient {id_patient} dice myo: {dice_myo_disease:0.4f}, dice lv: {dice_lv_disease:0.4f}, dice mi: {dice_mi_disease:0.4f}\")\n"
   ]
  },
  {
   "cell_type": "code",
   "execution_count": 60,
   "metadata": {},
   "outputs": [
    {
     "name": "stdout",
     "output_type": "stream",
     "text": [
      "mean dice dice_myocardium: 0.8248\n",
      "mean dice dice_lv: 0.9313\n",
      "mean dice dice_mi: 0.4985\n",
      "mean dice dice_pmo: 0.6211\n"
     ]
    }
   ],
   "source": [
    "# calculate mean dice\n",
    "for keys in dice_scores.keys():\n",
    "    print(f\"mean dice {keys}: {np.mean(dice_scores[keys]):0.4f}\")\n",
    "\n"
   ]
  },
  {
   "cell_type": "code",
   "execution_count": 61,
   "metadata": {},
   "outputs": [
    {
     "name": "stdout",
     "output_type": "stream",
     "text": [
      "mean dice dice_myocardium: 0.8374\n",
      "mean dice dice_lv: 0.9313\n"
     ]
    }
   ],
   "source": [
    "for keys in dice_scores_combined.keys():\n",
    "    print(f\"mean dice {keys}: {np.mean(dice_scores_combined[keys]):0.4f}\")"
   ]
  },
  {
   "cell_type": "code",
   "execution_count": 56,
   "metadata": {},
   "outputs": [
    {
     "name": "stdout",
     "output_type": "stream",
     "text": [
      "mean dice dice_myocardium: 0.8248\n",
      "mean dice dice_lv: 0.9314\n",
      "mean dice dice_MI: 0.5071\n"
     ]
    }
   ],
   "source": [
    "for keys in dice_scores_disease.keys():\n",
    "    print(f\"mean dice {keys}: {np.mean(dice_scores_disease[keys]):0.4f}\")"
   ]
  },
  {
   "cell_type": "code",
   "execution_count": null,
   "metadata": {},
   "outputs": [
    {
     "data": {
      "application/vnd.jupyter.widget-view+json": {
       "model_id": "b633eeea8cfc4a50a27be8df5b1fed45",
       "version_major": 2,
       "version_minor": 0
      },
      "text/plain": [
       "interactive(children=(IntSlider(value=4, description='z', max=8), Output()), _dom_classes=('widget-interact',)…"
      ]
     },
     "metadata": {},
     "output_type": "display_data"
    },
    {
     "data": {
      "text/plain": [
       "<function __main__.<lambda>(z)>"
      ]
     },
     "execution_count": 11,
     "metadata": {},
     "output_type": "execute_result"
    }
   ],
   "source": [
    "\n",
    "\n",
    "\n",
    "interact(lambda z: plot_image_mask_z(test_image, mask_disease, z, seg_disease), z=(0, test_image.shape[-1] - 1))"
   ]
  }
 ],
 "metadata": {
  "kernelspec": {
   "display_name": "tomodl",
   "language": "python",
   "name": "python3"
  },
  "language_info": {
   "codemirror_mode": {
    "name": "ipython",
    "version": 3
   },
   "file_extension": ".py",
   "mimetype": "text/x-python",
   "name": "python",
   "nbconvert_exporter": "python",
   "pygments_lexer": "ipython3",
   "version": "3.10.13"
  }
 },
 "nbformat": 4,
 "nbformat_minor": 2
}
