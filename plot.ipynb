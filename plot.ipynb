{
 "cells": [
  {
   "cell_type": "code",
   "execution_count": 6,
   "metadata": {},
   "outputs": [],
   "source": [
    "from segment2d import *\n",
    "import numpy as np\n",
    "import csv\n",
    "from matplotlib import pyplot as plt\n",
    "from ipywidgets import interact\n",
    "# visualize the image and mask in z axis using interact, image and mask are in one slice\n",
    "def plot_image_mask_z(image, mask, z, prediction=None):\n",
    "    fig, ax = plt.subplots(1, 2, figsize=(10, 5))\n",
    "    ax[0].imshow(image[..., z], cmap=\"gray\")\n",
    "    ax[0].set_title(\"Image\")\n",
    "    ax[0].imshow(mask[..., z], cmap=\"jet\", alpha=0.3)\n",
    "    if prediction is not None:\n",
    "        ax[1].imshow(image[..., z], cmap=\"gray\")\n",
    "        ax[1].set_title(\"Image prediction\")\n",
    "        ax[1].imshow(prediction[..., z], cmap=\"jet\", alpha=0.3)\n",
    "\n",
    "    plt.show()"
   ]
  },
  {
   "cell_type": "code",
   "execution_count": 3,
   "metadata": {},
   "outputs": [],
   "source": [
    "def preprocess_data(image_path):\n",
    "    data = {}\n",
    "    image = nib.load(image_path).get_fdata()\n",
    "\n",
    "    image = min_max_normalize(image)\n",
    "\n",
    "    padded_image, crop_index, padded_index = pad_background(image, dim2pad=cfg.DATA.DIM2PAD)\n",
    "    # padded_mask = pad_background_with_index(mask, crop_index, padded_index, dim2pad=cfg.DATA.DIM2PAD)\n",
    "    data[\"crop_index\"] = crop_index\n",
    "    data[\"padded_index\"] = padded_index\n",
    "    data[\"original_shape\"] = image.shape\n",
    "    batch_images = []\n",
    "    for i in range(padded_image.shape[-1]):\n",
    "        slice_inputs = padded_image[..., i : i + 1]  # shape (224, 224, 1)\n",
    "        slices_image = torch.from_numpy(slice_inputs.transpose(-1, 0, 1))  # shape (1, 224, 224)\n",
    "        batch_images.append(slices_image)\n",
    "\n",
    "    batch_images = torch.stack(batch_images).float()  # shape (9,1, 224, 224)\n",
    "    data[\"image\"] = batch_images\n",
    "    return data\n",
    "\n",
    "\n",
    "def predict_data(data, segmenter, threshold=100):\n",
    "    probability_output = segmenter.predict_patches(data[\"image\"])  # shape (n, 5, 128, 128)\n",
    "    seg = np.argmax(probability_output, axis=1).transpose(1, 2, 0)  # shape (128, 128, n)\n",
    "    seg = remove_small_elements(seg, min_size_remove=200)\n",
    "    if np.sum(seg==3) < threshold:\n",
    "        # convert 3 to 2\n",
    "        seg[seg == 3] = 2\n",
    "    invert_seg = invert_padding(data[\"original_shape\"], seg, data[\"crop_index\"], data[\"padded_index\"])\n",
    "    return invert_seg"
   ]
  },
  {
   "cell_type": "code",
   "execution_count": 4,
   "metadata": {},
   "outputs": [],
   "source": [
    "num_classes = 4\n",
    "with open(\"./test.csv\", mode=\"r\") as f:\n",
    "    reader = csv.DictReader(f)\n",
    "    list_test_subject = [row[\"path\"] for row in reader]\n",
    "device = torch.device(\"cuda\" if torch.cuda.is_available() else \"cpu\")\n",
    "model = FCDenseNet(in_channels=cfg.DATA.INDIM_MODEL, n_classes=num_classes)\n",
    "list_mask_test_dataset = [x.replace(\"Images\", \"Contours\") for x in list_test_subject]\n",
    "test_dataset = EMIDEC_Test_Loader(list_test_subject)\n",
    "segmenter = Segmenter(\n",
    "    model,\n",
    "    cfg.DATA.CLASS_WEIGHT,\n",
    "    5,\n",
    "    0.001,\n",
    "    0.5,\n",
    "    50,\n",
    ")\n",
    "segmenter.eval()\n",
    "checkpoint = \"./weights_train_combine/dice_0.7721.ckpt\"\n",
    "segmenter = Segmenter.load_from_checkpoint(\n",
    "    checkpoint_path=checkpoint,\n",
    "    model=model,\n",
    "    class_weight=cfg.DATA.CLASS_WEIGHT,\n",
    "    num_classes=num_classes,\n",
    "    learning_rate=0.001,\n",
    "    factor_lr=0.5,\n",
    "    patience_lr=50,\n",
    ")\n",
    "segmenter = segmenter.to(device)"
   ]
  },
  {
   "cell_type": "markdown",
   "metadata": {},
   "source": [
    "# combine MI + PMO"
   ]
  },
  {
   "cell_type": "code",
   "execution_count": 1,
   "metadata": {},
   "outputs": [],
   "source": [
    "MI_test_pts = [\n",
    "    \"Case_P050\",\n",
    "    \"Case_P087\",\n",
    "    \"Case_P001\",\n",
    "    \"Case_P010\",\n",
    "    \"Case_P017\",\n",
    "    \"Case_P029\",\n",
    "    \"Case_P090\",\n",
    "    \"Case_P038\",\n",
    "    \"Case_N052\",\n",
    "    \"Case_N016\",\n",
    "    \"Case_P100\",\n",
    "    \"Case_P043\",\n",
    "    \"Case_P051\",\n",
    "    \"Case_N030\",\n",
    "    \"Case_P007\",\n",
    "    \"Case_P088\",\n",
    "    \"Case_N025\",\n",
    "    \"Case_P076\",\n",
    "    \"Case_N046\",\n",
    "    \"Case_N054\",\n",
    "    \"Case_N049\",\n",
    "    \"Case_N041\",\n",
    "    \"Case_N023\",\n",
    "    \"Case_P026\",\n",
    "    \"Case_P031\",\n",
    "    \"Case_N024\",\n",
    "    \"Case_P064\",\n",
    "    \"Case_P021\",\n",
    "    \"Case_P015\",\n",
    "    \"Case_P094\",\n",
    "]"
   ]
  },
  {
   "cell_type": "code",
   "execution_count": 7,
   "metadata": {},
   "outputs": [
    {
     "name": "stdout",
     "output_type": "stream",
     "text": [
      "Case_P038 myo: 0.8035, lv: 0.9442, mi: 0.7634\n"
     ]
    }
   ],
   "source": [
    "dice_scores = {\"dice_myocardium\": [], \"dice_lv\": [], \"dice_mi\": []}\n",
    "dice_scores_combined = {\"dice_myocardium\": [], \"dice_lv\": []}\n",
    "\n",
    "for i in range(len(list_test_subject)):\n",
    "    id_patient = list_test_subject[i].split(\"/\")[-3]\n",
    "    if id_patient not in [\"Case_P038\"]:\n",
    "        # if id_patient not in MI_test_pts:\n",
    "        continue\n",
    "    test_image = nib.load(list_test_subject[i]).get_fdata()\n",
    "    mask_image = nib.load(list_test_subject[i].replace(\"Images\", \"Contours\")).get_fdata()\n",
    "    mask_image[mask_image == 4] = 3\n",
    "    data = preprocess_data(list_test_subject[i])\n",
    "    seg = predict_data(data, segmenter).astype(np.uint8)\n",
    "    dice_myo = dice_volume(mask_image, seg, class_index=2)\n",
    "    dice_lv = dice_volume(mask_image, seg, class_index=1)\n",
    "    dice_mi = dice_volume(mask_image, seg, class_index=3)\n",
    "    # print(\"number of MI: \", np.sum(seg==3))\n",
    "    dice_scores[\"dice_myocardium\"].append(dice_myo)\n",
    "    dice_scores[\"dice_lv\"].append(dice_lv)\n",
    "    dice_scores[\"dice_mi\"].append(dice_mi)\n",
    "\n",
    "    seg_combined = seg.copy()\n",
    "    seg_combined[seg_combined == 3] = 2\n",
    "    mask_combined = mask_image.copy()\n",
    "    mask_combined[mask_combined == 3] = 2\n",
    "\n",
    "    dice_myo_combined = dice_volume(mask_combined, seg_combined, class_index=2)\n",
    "    dice_lv_combined = dice_volume(mask_combined, seg_combined, class_index=1)\n",
    "    dice_scores_combined[\"dice_myocardium\"].append(dice_myo_combined)\n",
    "    dice_scores_combined[\"dice_lv\"].append(dice_lv_combined)\n",
    "\n",
    "    print(f\"{id_patient} myo: {dice_myo:0.4f}, lv: {dice_lv:0.4f}, mi: {dice_mi:0.4f}\")\n",
    "    # print(f\"patient {id_patient} dice myo: {dice_myo_combined:0.4f}, dice lv: {dice_lv_combined:0.4f}\")\n",
    "    # print(\n",
    "    #     f\"patient {id_patient} dice myo: {dice_myo_disease:0.4f}, dice lv: {dice_lv_disease:0.4f}, dice mi: {dice_mi_disease:0.4f}\"\n",
    "    # )"
   ]
  },
  {
   "cell_type": "code",
   "execution_count": 35,
   "metadata": {},
   "outputs": [
    {
     "name": "stdout",
     "output_type": "stream",
     "text": [
      "mean dice dice_myocardium: 0.8303\n",
      "mean dice dice_lv: 0.9358\n",
      "mean dice dice_mi: 0.7060\n"
     ]
    }
   ],
   "source": [
    "# calculate mean dice\n",
    "for keys in dice_scores.keys():\n",
    "    print(f\"mean dice {keys}: {np.mean(dice_scores[keys]):0.4f}\")"
   ]
  },
  {
   "cell_type": "code",
   "execution_count": null,
   "metadata": {},
   "outputs": [
    {
     "data": {
      "application/vnd.jupyter.widget-view+json": {
       "model_id": "da7371a6a6d2409eb91f770a260e59cd",
       "version_major": 2,
       "version_minor": 0
      },
      "text/plain": [
       "interactive(children=(IntSlider(value=3, description='z', max=7), Output()), _dom_classes=('widget-interact',)…"
      ]
     },
     "metadata": {},
     "output_type": "display_data"
    },
    {
     "data": {
      "text/plain": [
       "<function __main__.<lambda>(z)>"
      ]
     },
     "execution_count": 8,
     "metadata": {},
     "output_type": "execute_result"
    }
   ],
   "source": [
    "interact(lambda z: plot_image_mask_z(test_image, mask_image, z, seg), z=(0, test_image.shape[-1] - 1))"
   ]
  },
  {
   "cell_type": "markdown",
   "metadata": {},
   "source": [
    "# Full class"
   ]
  },
  {
   "cell_type": "code",
   "execution_count": 59,
   "metadata": {},
   "outputs": [
    {
     "name": "stdout",
     "output_type": "stream",
     "text": [
      "patient Case_N075 dice myo: 0.8723, dice lv: 0.9552, dice mi: 0.0000\n",
      "patient Case_N089 dice myo: 0.8769, dice lv: 0.9362, dice mi: 0.0000\n",
      "patient Case_N024 dice myo: 0.8494, dice lv: 0.9536, dice mi: 1.0000\n",
      "patient Case_N054 dice myo: 0.8864, dice lv: 0.9403, dice mi: 0.0000\n",
      "patient Case_N012 dice myo: 0.8927, dice lv: 0.9288, dice mi: 0.0000\n",
      "patient Case_N023 dice myo: 0.8702, dice lv: 0.9490, dice mi: 1.0000\n",
      "patient Case_P100 dice myo: 0.8538, dice lv: 0.9321, dice mi: 0.5322\n",
      "patient Case_P039 dice myo: 0.8631, dice lv: 0.9383, dice mi: 0.6366\n",
      "patient Case_P092 dice myo: 0.8517, dice lv: 0.9363, dice mi: 0.4545\n",
      "patient Case_P044 dice myo: 0.7934, dice lv: 0.9268, dice mi: 0.7326\n",
      "patient Case_P007 dice myo: 0.8790, dice lv: 0.9522, dice mi: 0.4664\n",
      "patient Case_P008 dice myo: 0.6160, dice lv: 0.8821, dice mi: 0.5085\n",
      "patient Case_P038 dice myo: 0.7803, dice lv: 0.9415, dice mi: 0.7584\n",
      "patient Case_P078 dice myo: 0.7568, dice lv: 0.9259, dice mi: 0.5995\n",
      "patient Case_P095 dice myo: 0.7968, dice lv: 0.8960, dice mi: 0.4711\n",
      "patient Case_P021 dice myo: 0.8863, dice lv: 0.9306, dice mi: 0.3889\n",
      "patient Case_P035 dice myo: 0.7726, dice lv: 0.9397, dice mi: 0.6236\n",
      "patient Case_P061 dice myo: 0.8025, dice lv: 0.9402, dice mi: 0.6943\n",
      "patient Case_P072 dice myo: 0.7925, dice lv: 0.9452, dice mi: 0.7727\n",
      "patient Case_P087 dice myo: 0.8028, dice lv: 0.8769, dice mi: 0.5018\n"
     ]
    }
   ],
   "source": [
    "dice_scores = {\"dice_myocardium\": [], \"dice_lv\": [], \"dice_mi\": [], \"dice_pmo\": []}\n",
    "dice_scores_combined = {\"dice_myocardium\": [], \"dice_lv\": []}\n",
    "dice_scores_disease = {\"dice_myocardium\": [], \"dice_lv\": [], \"dice_MI\": []}\n",
    "for i  in range(len(list_test_subject)):\n",
    "    id_patient = list_test_subject[i].split(\"/\")[-3]\n",
    "    test_image = nib.load(list_test_subject[i]).get_fdata()\n",
    "    mask_image = nib.load(list_mask_test_dataset[i]).get_fdata()\n",
    "    data = preprocess_data(list_test_subject[i])\n",
    "    seg = predict_data(data, segmenter).astype(np.uint8)\n",
    "    dice_myo = dice_volume(mask_image, seg, class_index=2)\n",
    "    dice_lv = dice_volume(mask_image, seg, class_index=1)\n",
    "    dice_mi = dice_volume(mask_image, seg, class_index=3)\n",
    "    dice_pmo = dice_volume(mask_image, seg, class_index=4)\n",
    "    dice_scores[\"dice_myocardium\"].append(dice_myo)\n",
    "    dice_scores[\"dice_lv\"].append(dice_lv)\n",
    "    dice_scores[\"dice_mi\"].append(dice_mi)\n",
    "    dice_scores[\"dice_pmo\"].append(dice_pmo)\n",
    "    seg_combined = seg.copy()\n",
    "    seg_combined[seg_combined == 3] = 2\n",
    "    seg_combined[seg_combined == 4] = 2\n",
    "    mask_combined = mask_image.copy()\n",
    "    mask_combined[mask_combined == 3] = 2\n",
    "    mask_combined[mask_combined == 4] = 2\n",
    "    dice_myo_combined = dice_volume(mask_combined, seg_combined, class_index=2)\n",
    "    dice_lv_combined = dice_volume(mask_combined, seg_combined, class_index=1)\n",
    "    dice_scores_combined[\"dice_myocardium\"].append(dice_myo_combined)\n",
    "    dice_scores_combined[\"dice_lv\"].append(dice_lv_combined)\n",
    "    seg_disease = seg.copy()\n",
    "\n",
    "    seg_disease[seg_disease == 4] = 3\n",
    "    mask_disease = mask_image.copy()\n",
    "    mask_disease[mask_disease == 4] = 3\n",
    "    dice_myo_disease = dice_volume(mask_disease, seg_disease, class_index=2)\n",
    "    dice_lv_disease = dice_volume(mask_disease, seg_disease, class_index=1)\n",
    "    dice_mi_disease = dice_volume(mask_disease, seg_disease, class_index=3)\n",
    "    dice_scores_disease[\"dice_myocardium\"].append(dice_myo_disease)\n",
    "    dice_scores_disease[\"dice_lv\"].append(dice_lv_disease)\n",
    "    dice_scores_disease[\"dice_MI\"].append(dice_mi_disease)\n",
    "    # print(f\"{id_patient} myo: {dice_myo:0.4f}, lv: {dice_lv:0.4f}, mi: {dice_mi:0.4f}, pmo: {dice_pmo:0.4f}\")\n",
    "    # print(f\"patient {id_patient} dice myo: {dice_myo_combined:0.4f}, dice lv: {dice_lv_combined:0.4f}\")\n",
    "    print(f\"patient {id_patient} dice myo: {dice_myo_disease:0.4f}, dice lv: {dice_lv_disease:0.4f}, dice mi: {dice_mi_disease:0.4f}\")"
   ]
  },
  {
   "cell_type": "code",
   "execution_count": 10,
   "metadata": {},
   "outputs": [
    {
     "name": "stdout",
     "output_type": "stream",
     "text": [
      "patient Case_P072 dice myo: 0.7927, dice lv: 0.9452, dice mi: 0.7727\n"
     ]
    }
   ],
   "source": [
    "dice_scores = {\"dice_myocardium\": [], \"dice_lv\": [], \"dice_mi\": [], \"dice_pmo\": []}\n",
    "dice_scores_combined = {\"dice_myocardium\": [], \"dice_lv\": []}\n",
    "dice_scores_disease = {\"dice_myocardium\": [], \"dice_lv\": [], \"dice_MI\": []}\n",
    "i = -2\n",
    "id_patient = list_test_subject[i].split(\"/\")[-3]\n",
    "test_image = nib.load(list_test_subject[i]).get_fdata()\n",
    "mask_image = nib.load(list_mask_test_dataset[i]).get_fdata()\n",
    "data = preprocess_data(list_test_subject[i])\n",
    "seg = predict_data(data, segmenter).astype(np.uint8)\n",
    "dice_myo = dice_volume(mask_image, seg, class_index=2)\n",
    "dice_lv = dice_volume(mask_image, seg, class_index=1)\n",
    "dice_mi = dice_volume(mask_image, seg, class_index=3)\n",
    "dice_pmo = dice_volume(mask_image, seg, class_index=4)\n",
    "dice_scores[\"dice_myocardium\"].append(dice_myo)\n",
    "dice_scores[\"dice_lv\"].append(dice_lv)\n",
    "dice_scores[\"dice_mi\"].append(dice_mi)\n",
    "dice_scores[\"dice_pmo\"].append(dice_pmo)\n",
    "seg_combined = seg.copy()\n",
    "seg_combined[seg_combined == 3] = 2\n",
    "seg_combined[seg_combined == 4] = 2\n",
    "mask_combined = mask_image.copy()\n",
    "mask_combined[mask_combined == 3] = 2\n",
    "mask_combined[mask_combined == 4] = 2\n",
    "dice_myo_combined = dice_volume(mask_combined, seg_combined, class_index=2)\n",
    "dice_lv_combined = dice_volume(mask_combined, seg_combined, class_index=1)\n",
    "dice_scores_combined[\"dice_myocardium\"].append(dice_myo_combined)\n",
    "dice_scores_combined[\"dice_lv\"].append(dice_lv_combined)\n",
    "\n",
    "seg_disease = seg.copy()\n",
    "seg_disease[seg_disease == 4] = 3\n",
    "mask_disease = mask_image.copy()\n",
    "mask_disease[mask_disease == 4] = 3\n",
    "dice_myo_disease = dice_volume(mask_disease, seg_disease, class_index=2)\n",
    "dice_lv_disease = dice_volume(mask_disease, seg_disease, class_index=1)\n",
    "dice_mi_disease = dice_volume(mask_disease, seg_disease, class_index=3)\n",
    "dice_scores_disease[\"dice_myocardium\"].append(dice_myo_disease)\n",
    "dice_scores_disease[\"dice_lv\"].append(dice_lv_disease)\n",
    "dice_scores_disease[\"dice_MI\"].append(dice_mi_disease)\n",
    "# print(f\"{id_patient} myo: {dice_myo:0.4f}, lv: {dice_lv:0.4f}, mi: {dice_mi:0.4f}, pmo: {dice_pmo:0.4f}\")\n",
    "print(f\"patient {id_patient} dice myo: {dice_myo_disease:0.4f}, dice lv: {dice_lv_disease:0.4f}, dice mi: {dice_mi_disease:0.4f}\")\n"
   ]
  },
  {
   "cell_type": "code",
   "execution_count": 60,
   "metadata": {},
   "outputs": [
    {
     "name": "stdout",
     "output_type": "stream",
     "text": [
      "mean dice dice_myocardium: 0.8248\n",
      "mean dice dice_lv: 0.9313\n",
      "mean dice dice_mi: 0.4985\n",
      "mean dice dice_pmo: 0.6211\n"
     ]
    }
   ],
   "source": [
    "# calculate mean dice\n",
    "for keys in dice_scores.keys():\n",
    "    print(f\"mean dice {keys}: {np.mean(dice_scores[keys]):0.4f}\")\n",
    "\n"
   ]
  },
  {
   "cell_type": "code",
   "execution_count": 61,
   "metadata": {},
   "outputs": [
    {
     "name": "stdout",
     "output_type": "stream",
     "text": [
      "mean dice dice_myocardium: 0.8374\n",
      "mean dice dice_lv: 0.9313\n"
     ]
    }
   ],
   "source": [
    "for keys in dice_scores_combined.keys():\n",
    "    print(f\"mean dice {keys}: {np.mean(dice_scores_combined[keys]):0.4f}\")"
   ]
  },
  {
   "cell_type": "code",
   "execution_count": 56,
   "metadata": {},
   "outputs": [
    {
     "name": "stdout",
     "output_type": "stream",
     "text": [
      "mean dice dice_myocardium: 0.8248\n",
      "mean dice dice_lv: 0.9314\n",
      "mean dice dice_MI: 0.5071\n"
     ]
    }
   ],
   "source": [
    "for keys in dice_scores_disease.keys():\n",
    "    print(f\"mean dice {keys}: {np.mean(dice_scores_disease[keys]):0.4f}\")"
   ]
  },
  {
   "cell_type": "code",
   "execution_count": null,
   "metadata": {},
   "outputs": [
    {
     "data": {
      "application/vnd.jupyter.widget-view+json": {
       "model_id": "b633eeea8cfc4a50a27be8df5b1fed45",
       "version_major": 2,
       "version_minor": 0
      },
      "text/plain": [
       "interactive(children=(IntSlider(value=4, description='z', max=8), Output()), _dom_classes=('widget-interact',)…"
      ]
     },
     "metadata": {},
     "output_type": "display_data"
    },
    {
     "data": {
      "text/plain": [
       "<function __main__.<lambda>(z)>"
      ]
     },
     "execution_count": 11,
     "metadata": {},
     "output_type": "execute_result"
    }
   ],
   "source": [
    "\n",
    "\n",
    "\n",
    "interact(lambda z: plot_image_mask_z(test_image, mask_disease, z, seg_disease), z=(0, test_image.shape[-1] - 1))"
   ]
  }
 ],
 "metadata": {
  "kernelspec": {
   "display_name": "tomodl",
   "language": "python",
   "name": "python3"
  },
  "language_info": {
   "codemirror_mode": {
    "name": "ipython",
    "version": 3
   },
   "file_extension": ".py",
   "mimetype": "text/x-python",
   "name": "python",
   "nbconvert_exporter": "python",
   "pygments_lexer": "ipython3",
   "version": "3.10.13"
  }
 },
 "nbformat": 4,
 "nbformat_minor": 2
}
