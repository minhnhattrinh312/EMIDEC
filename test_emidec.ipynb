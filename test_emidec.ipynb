{
 "cells": [
  {
   "cell_type": "code",
   "execution_count": 1,
   "metadata": {},
   "outputs": [],
   "source": [
    "import numpy as np\n",
    "import glob\n",
    "import random\n",
    "from segment2d import *\n",
    "import nibabel as nib\n",
    "from ipywidgets import interact\n",
    "import skimage\n",
    "import matplotlib.pyplot as plt\n",
    "\n",
    "# import albumentations as A\n",
    "from torchvision import transforms\n",
    "import os\n",
    "\n",
    "import csv\n",
    "import kornia as K\n",
    "from tqdm import tqdm\n",
    "from torch.utils.data import DataLoader\n",
    "import yaml\n",
    "import pandas as pd\n",
    "# natsort\n",
    "from natsort import natsorted\n",
    "import shutil\n",
    "# import SimpleITK as sitk\n",
    "from segment2d import *\n",
    "from skimage.transform import resize\n",
    "def compute_iou(mask1, mask2, class_id, eps=1e-6):\n",
    "    mask1_binary = mask1==class_id\n",
    "    mask2_binary = mask2==class_id\n",
    "    intersection = np.sum(mask1_binary*mask2_binary)\n",
    "    union = np.sum(mask1_binary)+np.sum(mask2_binary)-intersection\n",
    "    return (intersection+eps)/(union+eps)\n"
   ]
  },
  {
   "cell_type": "markdown",
   "metadata": {},
   "source": [
    "# test emidec"
   ]
  },
  {
   "cell_type": "code",
   "execution_count": 36,
   "metadata": {},
   "outputs": [],
   "source": [
    "list_image_normal = natsorted(glob.glob(\"./emidec-dataset-1.0.1/Case_N*/I*/*\"))\n",
    "list_image_pathologic = natsorted(glob.glob(\"./emidec-dataset-1.0.1/Case_P*/I*/*\"))\n",
    "# split the dataset into training and validation and test with sample ratio 70:10:20\n",
    "random.seed(42)\n",
    "random.shuffle(list_image_normal)\n",
    "random.shuffle(list_image_pathologic)\n",
    "train_normal = list_image_normal[:int(0.7 * len(list_image_normal))+1]\n",
    "val_normal = list_image_normal[int(0.7 * len(list_image_normal))+1 : int(0.8 * len(list_image_normal))+1]\n",
    "test_normal = list_image_normal[int(0.8 * len(list_image_normal))+1:]\n",
    "train_pathologic = list_image_pathologic[:int(0.7 * len(list_image_pathologic))]\n",
    "val_pathologic = list_image_pathologic[int(0.7 * len(list_image_pathologic)) : int(0.8 * len(list_image_pathologic))]\n",
    "test_pathologic = list_image_pathologic[int(0.8 * len(list_image_pathologic)) :]\n",
    "\n",
    "list_train = train_normal + train_pathologic\n",
    "list_val = val_normal + val_pathologic\n",
    "list_test = test_normal + test_pathologic\n",
    "\n"
   ]
  },
  {
   "cell_type": "code",
   "execution_count": 37,
   "metadata": {},
   "outputs": [],
   "source": [
    "data = np.load(\"emidec_train_full/Case_N006_1.npz\")\n",
    "image = data[\"image\"]\n",
    "mask = data[\"mask\"]"
   ]
  },
  {
   "cell_type": "code",
   "execution_count": 38,
   "metadata": {},
   "outputs": [
    {
     "name": "stdout",
     "output_type": "stream",
     "text": [
      "99\n"
     ]
    }
   ],
   "source": [
    "dict_value = {}\n",
    "count = 0\n",
    "for image_path in list_train+list_val+list_test:\n",
    "    image = nib.load(image_path).get_fdata()\n",
    "    mask = nib.load(image_path.replace(\"Images\", \"Contours\")).get_fdata()\n",
    "    resize_image, restore_info = crop_resize_image(image, new_dim=256)\n",
    "    resize_mask = crop_resize_mask(mask, restore_info)\n",
    "    inverted_mask = restore_mask(resize_mask, restore_info)\n",
    "    if np.linalg.norm(mask-inverted_mask) > 1:\n",
    "        # print(image_path, np.linalg.norm(mask-inverted_mask))\n",
    "        count += 1\n",
    "print(count)\n",
    "\n",
    "    # # calculate the number of pixel = 0, 1,2,3,4 in the mask\n",
    "    # unique, counts = np.unique(padded_mask, return_counts=True)\n",
    "    # for i in range(len(unique)):\n",
    "    #     if unique[i] in dict_value:\n",
    "    #         dict_value[unique[i]] += counts[i]\n",
    "    #     else:\n",
    "    #         dict_value[unique[i]] = counts[i]"
   ]
  },
  {
   "cell_type": "code",
   "execution_count": 39,
   "metadata": {},
   "outputs": [],
   "source": [
    "from kornia.augmentation import *\n",
    "\n",
    "aug = AugmentationSequential(\n",
    "    RandomHorizontalFlip(p=0.5),\n",
    "    RandomVerticalFlip(p=0.5),\n",
    "    RandomResizedCrop((128, 128), scale=(0.8, 1.25), ratio=(0.8, 1.25), p=0.5),\n",
    "    data_keys=[\"input\", \"mask\"],\n",
    ")"
   ]
  },
  {
   "cell_type": "code",
   "execution_count": 40,
   "metadata": {},
   "outputs": [
    {
     "data": {
      "application/vnd.jupyter.widget-view+json": {
       "model_id": "2e5b90a100c54192a22ada97822cf84d",
       "version_major": 2,
       "version_minor": 0
      },
      "text/plain": [
       "interactive(children=(IntSlider(value=2, description='z', max=5), Output()), _dom_classes=('widget-interact',)…"
      ]
     },
     "metadata": {},
     "output_type": "display_data"
    },
    {
     "data": {
      "text/plain": [
       "<function __main__.<lambda>(z)>"
      ]
     },
     "execution_count": 40,
     "metadata": {},
     "output_type": "execute_result"
    }
   ],
   "source": [
    "# visualize the image and mask in z axis using interact, image and mask are in one slice\n",
    "def plot_image_mask_z(image, mask, padded_image, padded_mask, z):\n",
    "    fig, ax = plt.subplots(1, 2, figsize=(10, 5))\n",
    "    ax[0].imshow(image[..., z], cmap=\"gray\")\n",
    "    ax[0].set_title(\"Image uncut\")\n",
    "    ax[0].imshow(mask[..., z], cmap=\"jet\", alpha=0.3)\n",
    "    ax[1].imshow(padded_image[..., z], cmap=\"gray\")\n",
    "    ax[1].set_title(\"Image cut\")\n",
    "    ax[1].imshow(padded_mask[..., z], cmap=\"jet\", alpha=0.3)\n",
    "\n",
    "    plt.show()\n",
    "\n",
    "interact(lambda z: plot_image_mask_z(image, mask, resize_image, resize_mask, z), z=(0, image.shape[-1] - 1))"
   ]
  },
  {
   "cell_type": "markdown",
   "metadata": {},
   "source": [
    "# test acdc\n"
   ]
  },
  {
   "cell_type": "code",
   "execution_count": 3,
   "metadata": {},
   "outputs": [],
   "source": [
    "# gt : ACDC/database/training/patient001/patient001_frame01_gt.nii.gz\n",
    "from numpy import pad\n",
    "\n",
    "\n",
    "list_patient_train = natsorted(glob.glob(\"ACDC/database/training/patient*\"))\n",
    "list_patient_test = natsorted(glob.glob(\"ACDC/database/testing/patient*\"))\n",
    "for patient_path in list_patient_train+list_patient_test:\n",
    "    # load the image and gt with nib\n",
    "    # print(patient_path)\n",
    "    for gt_img_path in glob.glob(patient_path + \"/*gt.nii.gz\"):\n",
    "        img_path = gt_img_path.replace(\"_gt\", \"\")\n",
    "        image = nib.load(img_path).get_fdata()\n",
    "        mask = nib.load(gt_img_path).get_fdata()\n",
    "        new_image, restore_info = crop_resize_image(image, 256)\n",
    "        new_mask = crop_resize_mask(mask, restore_info)\n",
    "        inverted_mask = restore_mask(new_mask, restore_info)\n",
    "        for class_index in range(1, 4):\n",
    "            if compute_iou(mask, inverted_mask, class_index) < 0.9:\n",
    "                print(gt_img_path, compute_iou(mask, inverted_mask, class_index))\n",
    "    "
   ]
  },
  {
   "cell_type": "code",
   "execution_count": 175,
   "metadata": {},
   "outputs": [
    {
     "data": {
      "text/plain": [
       "(1706, 1706)"
      ]
     },
     "execution_count": 175,
     "metadata": {},
     "output_type": "execute_result"
    }
   ],
   "source": [
    "np.sum(mask[...,1]==1), np.sum(inverted_mask[...,1]==1)"
   ]
  },
  {
   "cell_type": "code",
   "execution_count": 176,
   "metadata": {},
   "outputs": [
    {
     "data": {
      "text/plain": [
       "(3131, 3131)"
      ]
     },
     "execution_count": 176,
     "metadata": {},
     "output_type": "execute_result"
    }
   ],
   "source": [
    "np.sum(mask[...,-3]), np.sum(inverted_mask[...,-3])"
   ]
  },
  {
   "cell_type": "code",
   "execution_count": 177,
   "metadata": {},
   "outputs": [],
   "source": [
    "new_image, restore_info = crop_resize_image(image)\n",
    "new_mask = crop_resize_mask(mask, restore_info)\n",
    "inverted_mask = restore_mask(new_mask, restore_info)"
   ]
  },
  {
   "cell_type": "code",
   "execution_count": 13,
   "metadata": {},
   "outputs": [
    {
     "name": "stdout",
     "output_type": "stream",
     "text": [
      "(256, 256, 1)\n",
      "(256, 256)\n"
     ]
    }
   ],
   "source": [
    "data = np.load(\"ACDC_train/patient001_4.npz\")\n",
    "image = data[\"image\"]\n",
    "mask = data[\"mask\"]\n",
    "print(image.shape)\n",
    "print(mask.shape)\n"
   ]
  },
  {
   "cell_type": "code",
   "execution_count": 16,
   "metadata": {},
   "outputs": [],
   "source": [
    "    with open(\"csv_files/ACDC_val.csv\", mode=\"r\") as f:\n",
    "        reader = csv.DictReader(f)\n",
    "        list_val_subject = [row[\"path\"] for row in reader]"
   ]
  },
  {
   "cell_type": "code",
   "execution_count": 18,
   "metadata": {},
   "outputs": [],
   "source": [
    "val_dataset = Test_Volume_Loader(list_val_subject)\n",
    "batch = val_dataset[0]\n",
    "mask = batch[\"mask\"]"
   ]
  },
  {
   "cell_type": "code",
   "execution_count": 19,
   "metadata": {},
   "outputs": [
    {
     "data": {
      "text/plain": [
       "(256, 216, 10)"
      ]
     },
     "execution_count": 19,
     "metadata": {},
     "output_type": "execute_result"
    }
   ],
   "source": [
    "mask.shape"
   ]
  },
  {
   "cell_type": "code",
   "execution_count": 25,
   "metadata": {},
   "outputs": [],
   "source": [
    "image = batch[\"image\"].numpy()[:, 0].transpose(1, 2, 0)\n",
    "new_image = image.copy()\n",
    "resize_mask = crop_resize_mask(mask, batch[\"resize_info\"])\n",
    "new_mask = restore_mask(resize_mask, batch[\"resize_info\"])"
   ]
  },
  {
   "cell_type": "code",
   "execution_count": 26,
   "metadata": {},
   "outputs": [
    {
     "data": {
      "text/plain": [
       "(256, 256, 10)"
      ]
     },
     "execution_count": 26,
     "metadata": {},
     "output_type": "execute_result"
    }
   ],
   "source": [
    "image.shape"
   ]
  },
  {
   "cell_type": "code",
   "execution_count": null,
   "metadata": {},
   "outputs": [
    {
     "data": {
      "application/vnd.jupyter.widget-view+json": {
       "model_id": "9674325dcd484071b7a14971f11a021e",
       "version_major": 2,
       "version_minor": 0
      },
      "text/plain": [
       "interactive(children=(IntSlider(value=4, description='z', max=9), Output()), _dom_classes=('widget-interact',)…"
      ]
     },
     "metadata": {},
     "output_type": "display_data"
    },
    {
     "data": {
      "application/vnd.jupyter.widget-view+json": {
       "model_id": "0372b6b857944fb698a722ebdbecbaed",
       "version_major": 2,
       "version_minor": 0
      },
      "text/plain": [
       "interactive(children=(IntSlider(value=4, description='z', max=9), Output()), _dom_classes=('widget-interact',)…"
      ]
     },
     "metadata": {},
     "output_type": "display_data"
    },
    {
     "data": {
      "text/plain": [
       "<function __main__.<lambda>(z)>"
      ]
     },
     "execution_count": 22,
     "metadata": {},
     "output_type": "execute_result"
    }
   ],
   "source": [
    "def plot_image_mask_z(image, mask, padded_image, padded_mask, z):\n",
    "    fig, ax = plt.subplots(1, 2, figsize=(10, 5))\n",
    "    ax[0].imshow(image[..., z], cmap=\"gray\")\n",
    "    ax[0].set_title(\"Image uncut\")\n",
    "    ax[0].imshow(mask[..., z], cmap=\"jet\", alpha=0.3)\n",
    "    ax[1].imshow(padded_image[..., z], cmap=\"gray\")\n",
    "    ax[1].set_title(\"Image cut\")\n",
    "    ax[1].imshow(padded_mask[..., z], cmap=\"jet\", alpha=0.3)\n",
    "    # off the axis\n",
    "    ax[0].axis('off')\n",
    "    ax[1].axis('off')\n",
    "\n",
    "\n",
    "interact(lambda z: plot_image_mask_z(image, mask, new_image, new_mask, z), z=(0, image.shape[-1] - 1))\n",
    "interact(lambda z: plot_image_mask_z(image, mask, image, inverted_mask, z), z=(0, image.shape[-1] - 1))"
   ]
  }
 ],
 "metadata": {
  "kernelspec": {
   "display_name": "tomodl",
   "language": "python",
   "name": "python3"
  },
  "language_info": {
   "codemirror_mode": {
    "name": "ipython",
    "version": 3
   },
   "file_extension": ".py",
   "mimetype": "text/x-python",
   "name": "python",
   "nbconvert_exporter": "python",
   "pygments_lexer": "ipython3",
   "version": "3.10.13"
  }
 },
 "nbformat": 4,
 "nbformat_minor": 2
}
