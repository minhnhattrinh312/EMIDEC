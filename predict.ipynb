{
 "cells": [
  {
   "cell_type": "code",
   "execution_count": 1,
   "id": "c1158e87",
   "metadata": {},
   "outputs": [],
   "source": [
    "from segment2d import *\n",
    "import numpy as np\n",
    "import csv\n",
    "from matplotlib import pyplot as plt\n",
    "from ipywidgets import interact\n",
    "# visualize the image and mask in z ax is using interact, image and mask are in one slice\n",
    "import SimpleITK as sitk\n",
    "import scipy.ndimage as ndimage\n",
    "from metrics_segmentation import hd\n",
    "from natsort import natsorted\n",
    "import configparser\n",
    "from pathlib import Path\n",
    "import pandas as pd\n",
    "import os"
   ]
  },
  {
   "cell_type": "markdown",
   "id": "c82850f7",
   "metadata": {},
   "source": [
    "# predict emidec\n"
   ]
  },
  {
   "cell_type": "code",
   "execution_count": 2,
   "id": "69a9f22e",
   "metadata": {},
   "outputs": [
    {
     "name": "stderr",
     "output_type": "stream",
     "text": [
      "/home/nhattm/.conda/envs/tomodl/lib/python3.10/site-packages/torch/cuda/__init__.py:58: FutureWarning: The pynvml package is deprecated. Please install nvidia-ml-py instead. If you did not install pynvml directly, please report this to the maintainers of the package that installed pynvml for you.\n",
      "  import pynvml  # type: ignore[import]\n"
     ]
    }
   ],
   "source": [
    "device = torch.device(\"cuda\" if torch.cuda.is_available() else \"cpu\")\n",
    "with open(\"csv_files/EMIDEC_test_train_full.csv\", mode=\"r\") as f:\n",
    "    reader = csv.DictReader(f)\n",
    "    list_test_subject = [row[\"path\"] for row in reader]\n",
    "\n",
    "model_emidec = torch.load(\"tiramisu_emidec.pt\", weights_only=False)\n",
    "model_emidec.eval()\n",
    "model_emidec = model_emidec.to(device)"
   ]
  },
  {
   "cell_type": "code",
   "execution_count": null,
   "id": "165e2978",
   "metadata": {},
   "outputs": [
    {
     "name": "stdout",
     "output_type": "stream",
     "text": [
      "Inference time: 9.0607 s\n",
      "Average power: 18.69 W\n",
      "Energy per prediction: 169.3440 J\n"
     ]
    }
   ],
   "source": [
    "import time\n",
    "import torch\n",
    "import pynvml  # nvidia-ml-py\n",
    "\n",
    "def measure_energy_nvml(model, input_tensor, device='cuda:0', sample_interval=0.01, num_warmup=3):\n",
    "    \"\"\"\n",
    "    Measure energy consumption (Joules) for a PyTorch operation using nvidia-ml-py.\n",
    "    \n",
    "    Args:\n",
    "        model: PyTorch model (nn.Module).\n",
    "        input_tensor: Input tensor (e.g., shape (1, C, H, W) for a single patient prediction).\n",
    "        device: CUDA device (e.g., 'cuda:0').\n",
    "        sample_interval: Time between power samples (seconds; default 10ms for accuracy).\n",
    "        num_warmup: Number of dry runs to stabilize GPU (default 3).\n",
    "    \n",
    "    Returns:\n",
    "        dict: {'energy_joules': float, 'avg_power_w': float, 'inference_time_s': float}\n",
    "    \"\"\"\n",
    "    # Initialize NVML\n",
    "    pynvml.nvmlInit()\n",
    "    handle = pynvml.nvmlDeviceGetHandleByIndex(int(device.split(':')[-1]))\n",
    "    \n",
    "    # Warmup runs to stabilize GPU clocks\n",
    "    model.eval().to(device)\n",
    "    input_tensor = input_tensor.to(device)\n",
    "    with torch.no_grad():\n",
    "        for _ in range(num_warmup):\n",
    "            _ = model(input_tensor)\n",
    "    torch.cuda.synchronize()  # Ensure warmup completes\n",
    "    \n",
    "    # Power sampling during inference\n",
    "    power_samples = []\n",
    "    start_time = time.time()\n",
    "    \n",
    "    with torch.no_grad():\n",
    "        torch.cuda.synchronize()  # Sync before start\n",
    "        start_sample = time.time()\n",
    "        output = model(input_tensor)\n",
    "        torch.cuda.synchronize()  # Sync after end\n",
    "        end_sample = time.time()\n",
    "    \n",
    "    inference_time = end_sample - start_sample\n",
    "    \n",
    "    # Sample power during the inference window (high-frequency polling)\n",
    "    sample_start = start_time\n",
    "    while sample_start < end_sample:\n",
    "        power_mw = pynvml.nvmlDeviceGetPowerUsage(handle)\n",
    "        power_samples.append(power_mw / 1000.0)  # Convert to Watts\n",
    "        time.sleep(sample_interval)\n",
    "        sample_start += sample_interval\n",
    "    \n",
    "    avg_power = sum(power_samples) / len(power_samples) if power_samples else 0.0\n",
    "    energy_joules = avg_power * inference_time\n",
    "    \n",
    "    # Cleanup\n",
    "    pynvml.nvmlShutdown()\n",
    "    \n",
    "    return {\n",
    "        'energy_joules': energy_joules,\n",
    "        'avg_power_w': avg_power,\n",
    "        'inference_time_s': inference_time\n",
    "    }"
   ]
  },
  {
   "cell_type": "code",
   "execution_count": 3,
   "id": "c082156d",
   "metadata": {},
   "outputs": [
    {
     "name": "stdout",
     "output_type": "stream",
     "text": [
      "Energy per patient prediction: 0.3861 J\n",
      "Average power: 34.08 W\n",
      "Inference time: 0.0113 s\n"
     ]
    }
   ],
   "source": [
    "import time\n",
    "import torch\n",
    "import pynvml  # nvidia-ml-py\n",
    "\n",
    "def measure_energy_nvml(model, input_tensor, device='cuda:0', sample_interval=0.01, num_warmup=3):\n",
    "    \"\"\"\n",
    "    Measure energy consumption (Joules) for a PyTorch operation using nvidia-ml-py.\n",
    "    \n",
    "    Args:\n",
    "        model: PyTorch model (nn.Module).\n",
    "        input_tensor: Input tensor (e.g., shape (1, C, H, W) for a single patient prediction).\n",
    "        device: CUDA device (e.g., 'cuda:0').\n",
    "        sample_interval: Time between power samples (seconds; default 10ms for accuracy).\n",
    "        num_warmup: Number of dry runs to stabilize GPU (default 3).\n",
    "    \n",
    "    Returns:\n",
    "        dict: {'energy_joules': float, 'avg_power_w': float, 'inference_time_s': float}\n",
    "    \"\"\"\n",
    "    # Initialize NVML\n",
    "    pynvml.nvmlInit()\n",
    "    handle = pynvml.nvmlDeviceGetHandleByIndex(int(device.split(':')[-1]))\n",
    "    \n",
    "    # Warmup runs to stabilize GPU clocks\n",
    "    model.eval().to(device)\n",
    "    input_tensor = input_tensor.to(device)\n",
    "    with torch.no_grad():\n",
    "        for _ in range(num_warmup):\n",
    "            _ = model(input_tensor)\n",
    "    torch.cuda.synchronize()  # Ensure warmup completes\n",
    "    \n",
    "    # Power sampling during inference\n",
    "    power_samples = []\n",
    "    start_time = time.time()\n",
    "    \n",
    "    with torch.no_grad():\n",
    "        torch.cuda.synchronize()  # Sync before start\n",
    "        start_sample = time.time()\n",
    "        output = model(input_tensor)\n",
    "        torch.cuda.synchronize()  # Sync after end\n",
    "        end_sample = time.time()\n",
    "    \n",
    "    inference_time = end_sample - start_sample\n",
    "    \n",
    "    # Sample power during the inference window (high-frequency polling)\n",
    "    sample_start = start_time\n",
    "    while sample_start < end_sample:\n",
    "        power_mw = pynvml.nvmlDeviceGetPowerUsage(handle)\n",
    "        power_samples.append(power_mw / 1000.0)  # Convert to Watts\n",
    "        time.sleep(sample_interval)\n",
    "        sample_start += sample_interval\n",
    "    \n",
    "    avg_power = sum(power_samples) / len(power_samples) if power_samples else 0.0\n",
    "    energy_joules = avg_power * inference_time\n",
    "    \n",
    "    # Cleanup\n",
    "    pynvml.nvmlShutdown()\n",
    "    \n",
    "    return {\n",
    "        'energy_joules': energy_joules,\n",
    "        'avg_power_w': avg_power,\n",
    "        'inference_time_s': inference_time\n",
    "    }\n",
    "    \n",
    "patient_input = torch.randn(1, 1, 256, 256)  # Example: single-channel 256x256 MRI slice\n",
    "\n",
    "# Measure\n",
    "results = measure_energy_nvml(model_emidec, patient_input)\n",
    "print(f\"Energy per patient prediction: {results['energy_joules']:.4f} J\")\n",
    "print(f\"Average power: {results['avg_power_w']:.2f} W\")\n",
    "print(f\"Inference time: {results['inference_time_s']:.4f} s\")"
   ]
  },
  {
   "cell_type": "code",
   "execution_count": 22,
   "id": "1f1821f6",
   "metadata": {},
   "outputs": [
    {
     "ename": "NameError",
     "evalue": "name 'model_emidec' is not defined",
     "output_type": "error",
     "traceback": [
      "\u001b[0;31m---------------------------------------------------------------------------\u001b[0m",
      "\u001b[0;31mNameError\u001b[0m                                 Traceback (most recent call last)",
      "Cell \u001b[0;32mIn[22], line 34\u001b[0m\n\u001b[1;32m     32\u001b[0m handle \u001b[38;5;241m=\u001b[39m pynvml\u001b[38;5;241m.\u001b[39mnvmlDeviceGetHandleByIndex(\u001b[38;5;241m0\u001b[39m)\n\u001b[1;32m     33\u001b[0m data \u001b[38;5;241m=\u001b[39m preprocess_data_nii(image_path)\n\u001b[0;32m---> 34\u001b[0m seg \u001b[38;5;241m=\u001b[39m predict_data_model_emidec(data, \u001b[43mmodel_emidec\u001b[49m, min_size_remove\u001b[38;5;241m=\u001b[39m\u001b[38;5;241m500\u001b[39m)\u001b[38;5;241m.\u001b[39mastype(np\u001b[38;5;241m.\u001b[39muint8)\n\u001b[1;32m     35\u001b[0m power \u001b[38;5;241m=\u001b[39m pynvml\u001b[38;5;241m.\u001b[39mnvmlDeviceGetPowerUsage(handle) \u001b[38;5;241m/\u001b[39m \u001b[38;5;241m1000\u001b[39m  \u001b[38;5;66;03m# watts\u001b[39;00m\n\u001b[1;32m     36\u001b[0m pynvml\u001b[38;5;241m.\u001b[39mnvmlShutdown()\n",
      "\u001b[0;31mNameError\u001b[0m: name 'model_emidec' is not defined"
     ]
    }
   ],
   "source": [
    "import pynvml\n",
    "\n",
    "metrics_emidec_header = [\"patient_name\", \n",
    "    \"Dice_Myocardium\",\"HD_Myocardium\", \"Volume_Myocardium\", \"Err_Myocardium(ml)\",\n",
    "    \"Dice_Infarction\", \"Volume_Infarction\", \"Err_Infarction(ml)\", \"Vol_Difference_Infarction_rate(%)\",\n",
    "    \"Dice_No-Reflow\", \"Volume_No-Reflow\", \"Err_No-Reflow(ml)\", \"Vol_Difference_No-Reflow_rate(%)\",\n",
    "    ]\n",
    "# create folder to save the predicted image\n",
    "os.makedirs(\"predicted_emidec\", exist_ok=True)\n",
    "\n",
    "with open(\"csv_files/EMIDEC_test_train_full.csv\", mode=\"r\") as f:\n",
    "    reader = csv.DictReader(f)\n",
    "    list_test_subject = [row[\"path\"] for row in reader]\n",
    "# open csv file to save the result\n",
    "f = open(\"csv_files/result_emidec.csv\", mode=\"w\")\n",
    "writer = csv.DictWriter(f, fieldnames=metrics_emidec_header)\n",
    "writer.writeheader()\n",
    "\n",
    "#open csv file to save the volume of GT\n",
    "f_volume = open(\"csv_files/volume_emidec_GT.csv\", mode=\"w\")\n",
    "writer_volume = csv.DictWriter(f_volume, fieldnames=[\"patient_name\", \"Volume_Myocardium\", \"Volume_Infarction\", \"Volume_No-Reflow\"])\n",
    "writer_volume.writeheader()\n",
    "\n",
    "for image_path in list_test_subject:\n",
    "\n",
    "    patient_name = image_path.split(\"/\")[-3]\n",
    "    # print(\"patient name: \", patient_name)\n",
    "    mask_path = image_path.replace(\"Images\", \"Contours\")\n",
    "    image, affine, header = load_nii(image_path)\n",
    "    mask, _, _ = load_nii(mask_path)\n",
    "    pynvml.nvmlInit()\n",
    "    handle = pynvml.nvmlDeviceGetHandleByIndex(0)\n",
    "    data = preprocess_data_nii(image_path)\n",
    "    seg = predict_data_model_emidec(data, model_emidec, min_size_remove=500).astype(np.uint8)\n",
    "    power = pynvml.nvmlDeviceGetPowerUsage(handle) / 1000  # watts\n",
    "    pynvml.nvmlShutdown()\n",
    "    print(\"power: \", power)\n",
    "    save_nii(f\"predicted_emidec/{patient_name}_tiramisu_seg.nii.gz\", seg, affine, header)\n",
    "\n",
    "    result = metrics_EMIDEC(mask, seg, voxel_size=header.get_zooms())\n",
    "    # round the result to 3 decimal places\n",
    "    result = [patient_name] + [round(r, 4) for r in result]\n",
    "    # write the result to the csv file\n",
    "    writer.writerow(dict(zip(metrics_emidec_header, result)))\n",
    "    # break\n",
    "    #save the volume of GT\n",
    "    mask_myo = (mask == 2) + (mask == 3) + (mask == 4)\n",
    "    mask_infarction = (mask == 3) + (mask == 4)\n",
    "    mask_noreflow = (mask == 4)\n",
    "    volume_myo = mask_myo.sum() * np.prod(header.get_zooms()) / 1000.\n",
    "    volume_infarction = mask_infarction.sum() * np.prod(header.get_zooms()) / 1000.\n",
    "    volume_noreflow = mask_noreflow.sum() * np.prod(header.get_zooms()) / 1000.\n",
    "    writer_volume.writerow({\"patient_name\": patient_name, \"Volume_Myocardium\": volume_myo, \"Volume_Infarction\": volume_infarction, \"Volume_No-Reflow\": volume_noreflow})\n",
    "f.close()\n",
    "f_volume.close()"
   ]
  },
  {
   "cell_type": "code",
   "execution_count": 57,
   "id": "bada5659",
   "metadata": {},
   "outputs": [
    {
     "data": {
      "application/vnd.jupyter.widget-view+json": {
       "model_id": "d9a8523786d949ef9f27f2c284a78f50",
       "version_major": 2,
       "version_minor": 0
      },
      "text/plain": [
       "interactive(children=(IntSlider(value=3, description='z', max=6), Output()), _dom_classes=('widget-interact',)…"
      ]
     },
     "metadata": {},
     "output_type": "display_data"
    },
    {
     "data": {
      "text/plain": [
       "<function __main__.<lambda>(z)>"
      ]
     },
     "execution_count": 57,
     "metadata": {},
     "output_type": "execute_result"
    }
   ],
   "source": [
    "# crop the image and mask to the center of the image\n",
    "image_show = image[image.shape[0]//2-64:image.shape[0]//2+64, image.shape[1]//2-64:image.shape[1]//2+64, :]\n",
    "mask_show = mask[mask.shape[0]//2-64:mask.shape[0]//2+64, mask.shape[1]//2-64:mask.shape[1]//2+64, :]\n",
    "seg_show = seg[seg.shape[0]//2-64:seg.shape[0]//2+64, seg.shape[1]//2-64:seg.shape[1]//2+64, :]\n",
    "\n",
    "def plot_image_mask_z(image, mask, padded_image, padded_mask, z):\n",
    "    fig, ax = plt.subplots(1, 3, figsize=(10, 5))\n",
    "    ax[0].imshow(image[..., z], cmap=\"gray\")\n",
    "    ax[0].set_title(\"Image gt\")\n",
    "    # ax[0].imshow(mask[..., z], cmap=\"jet\", alpha=0.3)\n",
    "    ax[1].imshow(padded_image[..., z], cmap=\"gray\")\n",
    "    ax[1].set_title(\"Image predict\")\n",
    "    ax[1].imshow(padded_mask[..., z], cmap=\"jet\", alpha=0.5, vmin=0, vmax=4)\n",
    "\n",
    "    ax[2].imshow(padded_image[..., z], cmap=\"gray\", alpha=0.7)\n",
    "    ax[2].imshow(mask[..., z], cmap=\"jet\", alpha=0.5, vmin=0, vmax=4)\n",
    "    ax[2].set_title(\"Mask gt\")\n",
    "    # off the axis\n",
    "    ax[0].axis('off')\n",
    "    ax[1].axis('off')\n",
    "    ax[2].axis('off')\n",
    "    # add legend\n",
    "    ax[1].legend([\"Myocardium\", \"Infarction\", \"No-Reflow\"], loc=\"upper right\")\n",
    "\n",
    "\n",
    "interact(lambda z: plot_image_mask_z(image_show, mask_show, image_show, seg_show, z), z=(0, image.shape[-1] - 1))"
   ]
  },
  {
   "cell_type": "markdown",
   "id": "6a1d3ca5",
   "metadata": {},
   "source": [
    "# predict acdc"
   ]
  },
  {
   "cell_type": "code",
   "execution_count": 4,
   "id": "776d7356",
   "metadata": {},
   "outputs": [],
   "source": [
    "\n",
    "device = torch.device(\"cuda\" if torch.cuda.is_available() else \"cpu\")\n",
    "\n",
    "# num_classes= 4\n",
    "# model = FCDenseNet(in_channels=1, n_classes=num_classes)\n",
    "# class_weight = [0.27, 10.00, 8.91, 8.94]  #\n",
    "# segmenter = Segmenter_ACDC(\n",
    "#     model,\n",
    "#     class_weight,\n",
    "#     num_classes,\n",
    "#     0.001,\n",
    "#     0.5,\n",
    "#     50,\n",
    "# )\n",
    "# segmenter.eval()\n",
    "\n",
    "# checkpoint = \"weights_ACDC/dice_0.9137.ckpt\"\n",
    "# segmenter = Segmenter_ACDC.load_from_checkpoint(\n",
    "#     checkpoint_path=checkpoint,\n",
    "#     model=model,\n",
    "#     class_weight=class_weight,\n",
    "#     num_classes=num_classes,\n",
    "#     learning_rate=0.001,\n",
    "#     factor_lr=0.5,\n",
    "#     patience_lr=50,\n",
    "# )\n",
    "# segmenter = segmenter.to(device)\n",
    "model_acdc = torch.load(\"tiramisu_acdc.pt\", weights_only=False)\n",
    "model_acdc.eval()\n",
    "model_acdc = model_acdc.to(device)"
   ]
  },
  {
   "cell_type": "code",
   "execution_count": 5,
   "id": "ec191116",
   "metadata": {},
   "outputs": [],
   "source": [
    "metrics_acdc_header = [\"patient_name\", \n",
    "            \"Dice ED Left Ventricle\", \"HD ED Left Ventricle\", \"Volume ED Left Ventricle\", \"Err ED Left Ventricle(ml)\",\n",
    "          \"Dice ED Right Ventricle\", \"HD ED Right Ventricle\", \"Volume ED Right Ventricle\", \"Err ED Right Ventricle(ml)\",\n",
    "          \"Dice ED Myocardium\", \"HD ED Myocardium\", \"Volume ED Myocardium\", \"Err ED Myocardium(ml)\",\n",
    "          \"Dice ES Left Ventricle\", \"HD ES Left Ventricle\", \"Volume ES Left Ventricle\", \"Err ES Left Ventricle(ml)\",\n",
    "          \"Dice ES Right Ventricle\", \"HD ES Right Ventricle\", \"Volume ES Right Ventricle\", \"Err ES Right Ventricle(ml)\",\n",
    "          \"Dice ES Myocardium\", \"HD ES Myocardium\", \"Volume ES Myocardium\", \"Err ES Myocardium(ml)\"]\n",
    "\n",
    "config = configparser.ConfigParser()\n",
    "with open(\"csv_files/ACDC_test.csv\", mode=\"r\") as f:\n",
    "    reader = csv.DictReader(f)\n",
    "    list_test_subject = [row[\"path\"] for row in reader]\n",
    "\n",
    "test_patitent_paths = natsorted(glob.glob(\"ACDC/database/testing/patient*\"))\n",
    "\n",
    "\n",
    "# open csv file to save the result\n",
    "f = open(\"csv_files/result_acdc.csv\", mode=\"w\")\n",
    "writer = csv.DictWriter(f, fieldnames=metrics_acdc_header)\n",
    "writer.writeheader()\n",
    "# create folder to save the predicted mask\n",
    "os.makedirs(\"predicted_acdc\", exist_ok=True)\n",
    "for patient_path in test_patitent_paths:\n",
    "\n",
    "    info_path = patient_path + \"/Info.cfg\"\n",
    "    with open(info_path, mode=\"r\") as f:\n",
    "        config.read_string(f\"[info]\\n{f.read()}\")\n",
    "    ED_index = f\"0{config['info']['ED']}\" if int(config['info']['ED']) < 10 else f\"{config['info']['ED']}\"\n",
    "    ES_index = f\"0{config['info']['ES']}\" if int(config['info']['ES']) < 10 else f\"{config['info']['ES']}\"\n",
    "    patient_name = patient_path.split(\"/\")[-1]\n",
    "    ED_image_path = patient_path + f\"/{patient_name}_frame{ED_index}.nii.gz\"\n",
    "    ES_image_path = patient_path + f\"/{patient_name}_frame{ES_index}.nii.gz\"\n",
    "    ED_mask_path = patient_path + f\"/{patient_name}_frame{ED_index}_gt.nii.gz\"\n",
    "    ES_mask_path = patient_path + f\"/{patient_name}_frame{ES_index}_gt.nii.gz\"\n",
    "\n",
    "\n",
    "    ED_image, ED_affine, ED_header = load_nii(ED_image_path)\n",
    "    ES_image, ES_affine, ES_header = load_nii(ES_image_path)\n",
    "    ED_mask, _, _ = load_nii(ED_mask_path)\n",
    "    ES_mask, _, _ = load_nii(ES_mask_path)\n",
    "\n",
    "    ED_data = preprocess_data_nii(ED_image_path)\n",
    "    ES_data = preprocess_data_nii(ES_image_path)\n",
    "    ED_seg = predict_data_model(ED_data, model_acdc, min_size_remove=800).astype(np.uint8)\n",
    "    ES_seg = predict_data_model(ES_data, model_acdc, min_size_remove=800).astype(np.uint8)\n",
    "\n",
    "    result_ED = metrics_ACDC(ED_mask, ED_seg, voxel_size=ED_header.get_zooms())\n",
    "    result_ES = metrics_ACDC(ES_mask, ES_seg, voxel_size=ES_header.get_zooms())\n",
    "    # round the result to 3 decimal places\n",
    "    result = [patient_name] + [round(r, 4) for r in result_ED] + [round(r, 4) for r in result_ES]\n",
    "\n",
    "    # write the result to the csv file\n",
    "    writer.writerow(dict(zip(metrics_acdc_header, result)))\n",
    "    # save the predicted mask\n",
    "    save_nii(f\"predicted_acdc/{patient_name}_tiramisu_seg_ED.nii.gz\", ED_seg, ED_affine, ED_header)\n",
    "    save_nii(f\"predicted_acdc/{patient_name}_tiramisu_seg_ES.nii.gz\", ES_seg, ES_affine, ES_header)\n",
    "    # break\n",
    "\n",
    "f.close()"
   ]
  },
  {
   "cell_type": "code",
   "execution_count": 2,
   "id": "c48ccd11",
   "metadata": {},
   "outputs": [
    {
     "data": {
      "text/plain": [
       "array(['Dice_Myocardium', 'Err_Myocardium(ml)', 'Dice_Infarction',\n",
       "       'Err_Infarction(ml)', 'Vol_Difference_Infarction_rate(%)',\n",
       "       'Dice_No-Reflow', 'Err_No-Reflow(ml)',\n",
       "       'Vol_Difference_No-Reflow_rate(%)'], dtype=object)"
      ]
     },
     "execution_count": 2,
     "metadata": {},
     "output_type": "execute_result"
    }
   ],
   "source": [
    "import pandas as pd\n",
    "# read the result_acdc.csv file\n",
    "result_acdc = pd.read_csv(\"csv_files/result_acdc.csv\")\n",
    "# remove the Volume column\n",
    "result_acdc = result_acdc.drop(columns=[\"Volume ED Left Ventricle\", \"Volume ED Right Ventricle\", \"Volume ED Myocardium\", \"Volume ES Left Ventricle\", \"Volume ES Right Ventricle\", \"Volume ES Myocardium\"])\n",
    "result_acdc.head()\n",
    "# Melt everything except patient_name\n",
    "df_long = result_acdc.melt(id_vars='patient_name', var_name='Metric_Label', value_name='Value')\n",
    "\n",
    "# Extract Metric type (Dice, HD, Err), Phase (ED, ES), and Region (LV, RV, MYO)\n",
    "df_long[['Metric', 'Phase', 'Region']] = df_long['Metric_Label'].str.extract(r'(\\w+)\\s+(ED|ES)\\s+(Left Ventricle|Right Ventricle|Myocardium)')\n",
    "\n",
    "result_emidec = pd.read_csv(\"csv_files/result_emidec.csv\")\n",
    "result_emidec = result_emidec.drop(columns=[\"Volume_Myocardium\",\"Volume_Infarction\", \"Volume_No-Reflow\",\"HD_Myocardium\"])\n",
    "result_emidec.head()\n",
    "df_emidec = result_emidec.melt(id_vars='patient_name', \n",
    "                               var_name='Metric_Label', \n",
    "                               value_name='Value')\n",
    "\n",
    "# Extract Metric + Region\n",
    "df_emidec[['Metric', 'Region']] = df_emidec['Metric_Label'].str.extract(\n",
    "    r'(Dice|Err|Vol_Difference).*_(Myocardium|Infarction|No-Reflow)'\n",
    ")\n",
    "\n",
    "# Rename 'Err' to 'Volume Error' for clarity\n",
    "df_emidec['Metric'] = df_emidec['Metric'].replace({'Err': 'Volume Error'})\n",
    "\n",
    "# remove all row that have Metric_Label == Dice_Infarction and Value == 0 and == 1\n",
    "df_emidec = df_emidec[~((df_emidec['Metric_Label'] == 'Dice_Infarction') & (df_emidec['Value'] == 0))]\n",
    "df_emidec = df_emidec[~((df_emidec['Metric_Label'] == 'Dice_Infarction') & (df_emidec['Value'] == 1))]\n",
    "# remove all row that have Metric_Label == Dice_No-Reflow and Value == 0 and == 1\n",
    "df_emidec = df_emidec[~((df_emidec['Metric_Label'] == 'Dice_No-Reflow') & (df_emidec['Value'] == 0))]\n",
    "df_emidec = df_emidec[~((df_emidec['Metric_Label'] == 'Dice_No-Reflow') & (df_emidec['Value'] == 1))]\n",
    "\n",
    "# remove all row that have Metric_Label == Vol_Difference_Infarction_rate(%) and Value == 0\n",
    "df_emidec = df_emidec[~((df_emidec['Metric_Label'] == 'Vol_Difference_Infarction_rate(%)') & (df_emidec['Value'] == 0))]\n",
    "# remove all row that have Metric_Label == Vol_Difference_No-Reflow_rate(%) and Value == 0\n",
    "df_emidec = df_emidec[~((df_emidec['Metric_Label'] == 'Vol_Difference_No-Reflow_rate(%)') & (df_emidec['Value'] == 0))]\n",
    "\n",
    "# remove all row that have Metric_Label == Vol_Difference(mL) and Value == 0\n",
    "df_emidec = df_emidec[~((df_emidec['Metric_Label'] == 'Err_Infarction(ml)') & (df_emidec['Value'] == 0))]\n",
    "df_emidec = df_emidec[~((df_emidec['Metric_Label'] == 'Err_No-Reflow(ml)') & (df_emidec['Value'] == 0))]\n",
    "# list unique Metric_Label\n",
    "df_emidec['Metric_Label'].unique()"
   ]
  },
  {
   "cell_type": "code",
   "execution_count": 14,
   "id": "4c586545",
   "metadata": {},
   "outputs": [],
   "source": [
    "result_emidec = pd.read_csv(\"csv_files/result_emidec.csv\")\n",
    "gt_volume = pd.read_csv(\"csv_files/volume_emidec_GT.csv\")"
   ]
  },
  {
   "cell_type": "code",
   "execution_count": 16,
   "id": "4592dd28",
   "metadata": {},
   "outputs": [
    {
     "data": {
      "text/plain": [
       "0      84.0206\n",
       "1      92.8320\n",
       "2      90.5139\n",
       "3     111.7600\n",
       "4     136.2174\n",
       "5      96.0022\n",
       "6     123.2442\n",
       "7      86.0961\n",
       "8      95.5218\n",
       "9      84.4169\n",
       "10     99.7227\n",
       "11    144.0788\n",
       "12     77.8076\n",
       "13    128.8742\n",
       "14    109.8776\n",
       "15    107.4002\n",
       "16     82.4951\n",
       "17    140.2582\n",
       "18    122.6307\n",
       "19     74.5361\n",
       "Name: Volume_Myocardium, dtype: float64"
      ]
     },
     "execution_count": 16,
     "metadata": {},
     "output_type": "execute_result"
    }
   ],
   "source": [
    "result_emidec[\"Volume_Myocardium\"]"
   ]
  },
  {
   "cell_type": "code",
   "execution_count": 17,
   "id": "414fce3e",
   "metadata": {},
   "outputs": [
    {
     "data": {
      "text/plain": [
       "0      79.459763\n",
       "1      86.940970\n",
       "2      86.345484\n",
       "3     113.503904\n",
       "4     153.826820\n",
       "5     103.086472\n",
       "6     134.118677\n",
       "7      94.528345\n",
       "8      99.458351\n",
       "9      80.966339\n",
       "10    100.233071\n",
       "11    134.527500\n",
       "12     90.673828\n",
       "13    144.221924\n",
       "14    116.895343\n",
       "15    105.018227\n",
       "16     93.774414\n",
       "17    141.151473\n",
       "18    125.168994\n",
       "19     98.339844\n",
       "Name: Volume_Myocardium, dtype: float64"
      ]
     },
     "execution_count": 17,
     "metadata": {},
     "output_type": "execute_result"
    }
   ],
   "source": [
    "gt_volume[\"Volume_Myocardium\"]"
   ]
  },
  {
   "cell_type": "code",
   "execution_count": 26,
   "id": "8ba1dec5",
   "metadata": {},
   "outputs": [
    {
     "name": "stdout",
     "output_type": "stream",
     "text": [
      "Number of valid pairs: 14\n",
      "\n",
      "Wilcoxon Signed-Rank Test results:\n",
      "Statistic: 33.0000\n",
      "p-value: 0.2412\n",
      "❌ No statistically significant difference (p >= 0.05)\n",
      "\n",
      "Descriptive statistics:\n",
      "Median difference (GT - Pred): 0.02\n",
      "MAD (Median Absolute Deviation): 0.03\n",
      "Mean difference: 0.02\n",
      "Std difference: 0.05\n",
      "Effect size (r): 0.313\n",
      "  - 0.1 = small, 0.3 = medium, 0.5 = large\n"
     ]
    }
   ],
   "source": [
    "import numpy as np\n",
    "from scipy import stats\n",
    "import pandas as pd\n",
    "gt = gt_volume[\"Volume_Myocardium\"]\n",
    "pred = result_emidec[\"Volume_Myocardium\"]\n",
    "# Your data\n",
    "# get all [gt_volume[\"Volume_Infarction\"] != 0] and divide by gt_volume[\"Volume_Myocardium\"]\n",
    "gt = gt_volume[gt_volume[\"Volume_Infarction\"] != 0]\n",
    "gt = gt[\"Volume_Infarction\"] / gt[\"Volume_Myocardium\"]\n",
    "pred = result_emidec[result_emidec[\"Volume_Infarction\"]!=0]\n",
    "pred = pred[\"Volume_Infarction\"] / pred[\"Volume_Myocardium\"]\n",
    "\n",
    "# Convert to numpy arrays\n",
    "gt = np.array(gt)\n",
    "pred = np.array(pred)\n",
    "\n",
    "# Check same length\n",
    "if len(gt) != len(pred):\n",
    "    raise ValueError(\"Both volume arrays must have the same length for paired test.\")\n",
    "\n",
    "# Remove NaN values (Wilcoxon requires complete pairs)\n",
    "valid_mask = ~(np.isnan(gt) | np.isnan(pred))\n",
    "gt_clean = gt[valid_mask]\n",
    "pred_clean = pred[valid_mask]\n",
    "\n",
    "if len(gt_clean) < 10:\n",
    "    print(\"Warning: Less than 10 valid pairs. Results may be unreliable.\")\n",
    "\n",
    "print(f\"Number of valid pairs: {len(gt_clean)}\")\n",
    "\n",
    "# Perform Wilcoxon Signed-Rank Test\n",
    "statistic, p_value = stats.wilcoxon(gt_clean, pred_clean)\n",
    "\n",
    "# Output results\n",
    "print(f\"\\nWilcoxon Signed-Rank Test results:\")\n",
    "print(f\"Statistic: {statistic:.4f}\")\n",
    "print(f\"p-value: {p_value:.4f}\")\n",
    "\n",
    "# Interpret significance\n",
    "alpha = 0.05\n",
    "if p_value < alpha:\n",
    "    print(\"✅ Statistically significant difference (p < 0.05)\")\n",
    "else:\n",
    "    print(\"❌ No statistically significant difference (p >= 0.05)\")\n",
    "\n",
    "# Additional statistics\n",
    "differences = gt_clean - pred_clean\n",
    "median_diff = np.median(differences)\n",
    "mad = np.median(np.abs(differences - median_diff))  # Median Absolute Deviation\n",
    "\n",
    "print(f\"\\nDescriptive statistics:\")\n",
    "print(f\"Median difference (GT - Pred): {median_diff:.2f}\")\n",
    "print(f\"MAD (Median Absolute Deviation): {mad:.2f}\")\n",
    "print(f\"Mean difference: {np.mean(differences):.2f}\")\n",
    "print(f\"Std difference: {np.std(differences, ddof=1):.2f}\")\n",
    "\n",
    "# Effect size (r = z / sqrt(N))\n",
    "n = len(gt_clean)\n",
    "z_stat = abs(stats.norm.ppf(p_value / 2))  # Approximate z-score\n",
    "effect_size_r = z_stat / np.sqrt(n)\n",
    "print(f\"Effect size (r): {effect_size_r:.3f}\")\n",
    "print(f\"  - 0.1 = small, 0.3 = medium, 0.5 = large\")"
   ]
  },
  {
   "cell_type": "code",
   "execution_count": 46,
   "id": "8df956f5",
   "metadata": {},
   "outputs": [
    {
     "name": "stderr",
     "output_type": "stream",
     "text": [
      "/tmp/ipykernel_1665671/920786020.py:63: FutureWarning: \n",
      "\n",
      "Passing `palette` without assigning `hue` is deprecated and will be removed in v0.14.0. Assign the `x` variable to `hue` and set `legend=False` for the same effect.\n",
      "\n",
      "  sns.boxplot(x='', y='Infarction / Myocardium Ratio', data=data_melted, palette=\"Set2\", ax=ax)\n"
     ]
    },
    {
     "data": {
      "image/png": "[encoded data removed]",
      "text/plain": [
       "<Figure size 1800x1200 with 6 Axes>"
      ]
     },
     "metadata": {},
     "output_type": "display_data"
    }
   ],
   "source": [
    "import matplotlib.pyplot as plt\n",
    "import seaborn as sns\n",
    "\n",
    "# --- Create a single figure with 2 rows × 3 columns\n",
    "fig, axes = plt.subplots(2, 3, figsize=(18, 12))\n",
    "\n",
    "# ==========================================================\n",
    "# === Row 1: EMIDEC dataset\n",
    "# ==========================================================\n",
    "metrics_emidec = ['Dice', 'Vol_Difference', 'Volume Error']\n",
    "titles_emidec = ['Dice Score', 'Volume Difference Rate(%)', 'Volume Difference (mL)']\n",
    "\n",
    "for ax, metric, title in zip(range(len(axes[0])), metrics_emidec, titles_emidec):\n",
    "    if ax != 1:\n",
    "        ax = axes[0][ax]\n",
    "        subset = df_emidec[df_emidec['Metric'] == metric]\n",
    "        \n",
    "        sns.boxplot(\n",
    "            x='Region',\n",
    "            y='Value',\n",
    "            hue='Region',\n",
    "            data=subset,\n",
    "            ax=ax,\n",
    "            showfliers=True,  # optional: hides outliers for cleaner look\n",
    "            legend=False\n",
    "        )\n",
    "        \n",
    "        # ax.set_title(title)\n",
    "        ax.set_xlabel('Region')\n",
    "        ax.set_ylabel(metric)\n",
    "        ax.grid(axis='y', linestyle='--', alpha=0.6)\n",
    "        \n",
    "        if metric == 'Dice':\n",
    "            ax.set_ylim(0, 1)\n",
    "            ax.set_ylabel('Dice Score')\n",
    "        elif metric == 'Vol_Difference':\n",
    "            ax.set_ylim(0, None)\n",
    "            ax.set_ylabel('Difference Rate(%)')\n",
    "        elif metric == 'Volume Error':\n",
    "            ax.set_ylim(0, None)\n",
    "            ax.set_ylabel('Volume Difference (mL)')\n",
    "\n",
    "# Add EMIDEC subtitle manually\n",
    "fig.text(0.5, 0.96, 'Segmentation Metrics Across Regions on EMIDEC Dataset',\n",
    "         ha='center', va='center', fontsize=14, fontweight='bold')\n",
    "########################### plot the ax[0][1]\n",
    "ax = axes[0][1]\n",
    "gt = gt_volume[gt_volume[\"Volume_Infarction\"] != 0]\n",
    "gt_ratio = gt[\"Volume_Infarction\"] / gt[\"Volume_Myocardium\"] * 100\n",
    "\n",
    "pred = result_emidec[result_emidec[\"Volume_Infarction\"] != 0]\n",
    "pred_ratio = pred[\"Volume_Infarction\"] / pred[\"Volume_Myocardium\"] * 100\n",
    "# Ensure same indexing if needed (optional: align by patient ID)\n",
    "# Here we assume they are already paired or independent for visualization\n",
    "\n",
    "# Create a DataFrame for easy plotting with seaborn\n",
    "data = pd.DataFrame({\n",
    "    'AI': pred_ratio,\n",
    "    'Ground Truth': gt_ratio,\n",
    "\n",
    "})\n",
    "data_melted = data.melt(var_name='', value_name='Infarction / Myocardium Ratio')\n",
    "sns.boxplot(x='', y='Infarction / Myocardium Ratio', data=data_melted, palette=\"Set2\", ax=ax)\n",
    "# make the boxplot of gt_volume[\"Volume_Infarction\"] / gt_volume[\"Volume_Myocardium\"] and result_emidec[\"Volume_Infarction\"] / result_emidec[\"Volume_Myocardium\"]\n",
    "# ax.set_title(\"Scar Burden\")\n",
    "ax.set_ylabel('Scar Burden (%)')\n",
    "\n",
    "\n",
    "\n",
    "###############################################################\n",
    "# ==========================================================\n",
    "# === Row 2: ACDC dataset\n",
    "# ==========================================================\n",
    "metrics_acdc = ['Dice', 'HD', 'Err']\n",
    "titles_acdc = ['Dice Score', 'Hausdorff Distance (mm)', 'Volume Difference (mL)']\n",
    "\n",
    "for ax, metric, title in zip(axes[1], metrics_acdc, titles_acdc):\n",
    "    subset = df_long[df_long['Metric'] == metric]\n",
    "    \n",
    "    sns.boxplot(\n",
    "        x='Phase',\n",
    "        y='Value',\n",
    "        hue='Region',\n",
    "        data=subset,\n",
    "        ax=ax,\n",
    "        showfliers=True,\n",
    "        legend=True\n",
    "    )\n",
    "    \n",
    "    # ax.set_title(title)\n",
    "    ax.set_xlabel('Phase')\n",
    "    ax.set_ylabel(metric)\n",
    "    ax.grid(axis='y', linestyle='--', alpha=0.6)\n",
    "    \n",
    "    if metric == 'Dice':\n",
    "        ax.set_ylim(0, 1)\n",
    "        ax.set_ylabel('Dice Score')\n",
    "    elif metric == 'HD':\n",
    "        ax.set_ylim(0, None)\n",
    "        ax.set_ylabel('Hausdorff Distance (mm)')\n",
    "    elif metric == 'Err':\n",
    "        ax.set_ylabel('Volume Difference (mL)')\n",
    "\n",
    "plt.subplots_adjust(hspace=0.9, bottom=0.12)\n",
    "\n",
    "# Add ACDC subtitle manually\n",
    "fig.text(0.5, 0.47, 'Segmentation Metrics Across End-Diastolic (ED) and End-Systolic (ES) Phases on ACDC Dataset',\n",
    "         ha='center', va='center', fontsize=14, fontweight='bold')\n",
    "\n",
    "# ==========================================================\n",
    "# === Final formatting\n",
    "# ==========================================================\n",
    "\n",
    "plt.tight_layout(rect=[0, 0, 1, 0.95])\n",
    "plt.subplots_adjust(hspace=0.25)\n",
    "plt.savefig(\"figures/segmentation_metrics.png\", dpi=300)\n",
    "\n",
    "plt.show()\n"
   ]
  },
  {
   "cell_type": "code",
   "execution_count": 27,
   "id": "ef3f23ec",
   "metadata": {},
   "outputs": [
    {
     "data": {
      "text/plain": [
       "(216, 256, 8)"
      ]
     },
     "execution_count": 27,
     "metadata": {},
     "output_type": "execute_result"
    }
   ],
   "source": [
    "ED_image.shape"
   ]
  },
  {
   "cell_type": "code",
   "execution_count": 46,
   "id": "a25c9f66",
   "metadata": {},
   "outputs": [
    {
     "data": {
      "application/vnd.jupyter.widget-view+json": {
       "model_id": "e267d442f9a649189fd470aa5178782e",
       "version_major": 2,
       "version_minor": 0
      },
      "text/plain": [
       "interactive(children=(IntSlider(value=3, description='z', max=7), Output()), _dom_classes=('widget-interact',)…"
      ]
     },
     "metadata": {},
     "output_type": "display_data"
    },
    {
     "data": {
      "text/plain": [
       "<function __main__.<lambda>(z)>"
      ]
     },
     "execution_count": 46,
     "metadata": {},
     "output_type": "execute_result"
    }
   ],
   "source": [
    "# make the crop center of the image 128\n",
    "image = ED_image[ED_image.shape[0]//2-64:ED_image.shape[0]//2+64, ED_image.shape[1]//2-64:ED_image.shape[1]//2+64, :]\n",
    "mask = ED_mask[ED_mask.shape[0]//2-64:ED_mask.shape[0]//2+64, ED_mask.shape[1]//2-64:ED_mask.shape[1]//2+64, :]\n",
    "seg = ED_seg[ED_seg.shape[0]//2-64:ED_seg.shape[0]//2+64, ED_seg.shape[1]//2-64:ED_seg.shape[1]//2+64, :]\n",
    "\n",
    "def plot_image_mask_z(image, mask, padded_image, padded_mask, z):\n",
    "    fig, ax = plt.subplots(1, 3, figsize=(10, 5))\n",
    "    ax[0].imshow(image[..., z], cmap=\"gray\")\n",
    "    ax[0].set_title(\"Image gt\")\n",
    "    # ax[0].imshow(mask[..., z], cmap=\"jet\", alpha=0.3)\n",
    "    ax[1].imshow(padded_image[..., z], cmap=\"gray\", alpha=0.7)\n",
    "    ax[1].set_title(\"Image predict\")\n",
    "    ax[1].imshow(padded_mask[..., z], cmap=\"jet\", alpha=0.5, vmin=0, vmax=4)\n",
    "\n",
    "    ax[2].imshow(padded_image[..., z], cmap=\"gray\", alpha=0.7)\n",
    "    ax[2].imshow(mask[..., z], cmap=\"jet\", alpha=0.5)\n",
    "    ax[2].set_title(\"Mask gt\")\n",
    "    # off the axis\n",
    "    ax[0].axis('off')\n",
    "    ax[1].axis('off')\n",
    "\n",
    "\n",
    "interact(lambda z: plot_image_mask_z(image, mask, image, seg, z), z=(0, ED_image.shape[-1] - 1))"
   ]
  },
  {
   "cell_type": "markdown",
   "id": "85eec2a6",
   "metadata": {},
   "source": [
    "# predict Table 2 dataset"
   ]
  },
  {
   "cell_type": "code",
   "execution_count": null,
   "id": "9396217b",
   "metadata": {},
   "outputs": [
    {
     "name": "stdout",
     "output_type": "stream",
     "text": [
      "64 64\n"
     ]
    }
   ],
   "source": [
    "model_name = \"tiramisu_emidec.pt\" # \"tiramisu_emidec.pt\"\n",
    "device = torch.device(\"cuda\" if torch.cuda.is_available() else \"cpu\")\n",
    "model_acdc = torch.load(model_name, weights_only=False)\n",
    "model_acdc.eval()\n",
    "model_acdc = model_acdc.to(device)\n",
    "\n",
    "def preprocess_data_table2(image_nrrd_path):\n",
    "    data = {}\n",
    "    patient_image = nrrd.read(image_nrrd_path)\n",
    "    image = patient_image[0]\n",
    "    image = min_max_normalize(image)\n",
    "\n",
    "    resized_image, restore_info = crop_resize_image(image, 256)\n",
    "    # padded_mask = pad_background_with_index(mask, crop_index, padded_index, dim2pad=cfg.DATA.DIM2PAD)\n",
    "    data[\"restore_info\"] = restore_info\n",
    "    batch_images = []\n",
    "    for i in range(resized_image.shape[-1]):\n",
    "        slice_inputs = resized_image[..., i : i + 1]  # shape (224, 224, 1)\n",
    "        slices_image = torch.from_numpy(slice_inputs.transpose(-1, 0, 1))  # shape (1, 224, 224)\n",
    "        batch_images.append(slices_image)\n",
    "\n",
    "    batch_images = torch.stack(batch_images).float()  # shape (9,1, 224, 224)\n",
    "    data[\"image\"] = batch_images\n",
    "    return data\n",
    "    \n",
    "table2_path = \"Tables 2/Tables/*/\"\n",
    "list_test_image = natsorted([x for x in glob.glob(\"Tables 2/Tables/*/*.nrrd\") if \"seg\" not in x])\n",
    "list_test_mask = natsorted([x for x in glob.glob(\"Tables 2/Tables/*/*seg.nrrd\")])\n",
    "\n",
    "print(len(list_test_image), len(list_test_mask))\n"
   ]
  },
  {
   "cell_type": "code",
   "execution_count": null,
   "id": "c85c5b7a",
   "metadata": {},
   "outputs": [
    {
     "name": "stdout",
     "output_type": "stream",
     "text": [
      "write predicted mask to  42_PCF/32 de_high res PSIR EC_PSIR_tiramisu_seg.nrrd\n"
     ]
    }
   ],
   "source": [
    "# create folder to save the predicted masks\n",
    "import nrrd\n",
    "csv_file = f\"csv_files/result_table2_{model_name}.csv\"\n",
    "f = open(csv_file, mode=\"w\")\n",
    "writer = csv.DictWriter(f, fieldnames=[\"patient_name\", \"Dice\"])\n",
    "writer.writeheader()\n",
    "os.makedirs(\"predicted_table2_data_emidec_model\", exist_ok=True)\n",
    "os.makedirs(\"predicted_table2_data_acdc_model\", exist_ok=True)\n",
    "\n",
    "for index in range(len(list_test_image)):\n",
    "    if \"42_PC\" in list_test_image[index]:\n",
    "\n",
    "        image = nrrd.read(list_test_image[index])[0]\n",
    "        image_info = nrrd.read(list_test_image[index])[1]\n",
    "        data = preprocess_data_table2(list_test_image[index])\n",
    "\n",
    "        # seg = predict_data(data, segmenter, patient=patient, mvo=is_MVO, task=task).astype(np.uint8)\n",
    "        num_classes = 4 if model_name == \"tiramisu_acdc.pt\" else 5\n",
    "        seg = predict_data_model(data, model_acdc, num_classes=num_classes).astype(np.uint8)\n",
    "        # give label 1, 3, 4 to 0\n",
    "        seg[seg == 1] = 0\n",
    "        seg[seg == 3] = 0\n",
    "        seg[seg == 4] = 0\n",
    "        # give label 2 to 1\n",
    "        seg[seg == 2] = 1\n",
    "        # write the predicted mask to the a nrrd file with image_info\n",
    "        # and make name of the file is like this 1 - PGF/34 de_high res PSIR EC_PSIR_tiramisu.nrrd\n",
    "        name_predict = list_test_image[index].split(\"/\")[-2:]\n",
    "        name_predict = \"/\".join(name_predict).replace(\".nrrd\", \"_tiramisu_seg.nrrd\")\n",
    "        # make folder dir 1-PGF to save the predicted mask\n",
    "        if model_name == \"tiramisu_acdc.pt\":\n",
    "            os.makedirs(f\"predicted_table2_data_acdc_model/{name_predict.split('/')[0]}\", exist_ok=True)\n",
    "            nrrd.write(f\"predicted_table2_data_acdc_model/{name_predict}\", seg, image_info)\n",
    "        else:\n",
    "            os.makedirs(f\"predicted_table2_data_emidec_model/{name_predict.split('/')[0]}\", exist_ok=True)\n",
    "            nrrd.write(f\"predicted_table2_data_emidec_model/{name_predict}\", seg, image_info)\n",
    "            \n",
    "        print(\"write predicted mask to \", name_predict)\n",
    "\n",
    "        mask = nrrd.read(list_test_mask[index])[0]\n",
    "        dice = dice_volume_ACDC(mask, seg, class_index=1)\n",
    "        writer.writerow({\"patient_name\": list_test_image[index].split(\"/\")[-2], \"Dice\": dice})\n",
    "\n",
    "    \n",
    "    # break\n",
    "f.close()"
   ]
  },
  {
   "cell_type": "code",
   "execution_count": null,
   "id": "719d8828",
   "metadata": {},
   "outputs": [
    {
     "data": {
      "application/vnd.jupyter.widget-view+json": {
       "model_id": "f1c3d84638424a70893dc3f7e75a412b",
       "version_major": 2,
       "version_minor": 0
      },
      "text/plain": [
       "interactive(children=(IntSlider(value=7, description='z', max=15), Output()), _dom_classes=('widget-interact',…"
      ]
     },
     "metadata": {},
     "output_type": "display_data"
    },
    {
     "data": {
      "text/plain": [
       "<function __main__.<lambda>(z)>"
      ]
     },
     "execution_count": 38,
     "metadata": {},
     "output_type": "execute_result"
    }
   ],
   "source": [
    "def plot_image_mask_z(image, mask, padded_image, padded_mask, z):\n",
    "    fig, ax = plt.subplots(1, 2, figsize=(10, 5))\n",
    "    ax[0].imshow(image[..., z], cmap=\"gray\")\n",
    "    ax[0].set_title(\"Image gt\")\n",
    "    ax[0].imshow(mask[..., z], cmap=\"jet\", alpha=0.3)\n",
    "    ax[1].imshow(padded_image[..., z], cmap=\"gray\")\n",
    "    ax[1].set_title(\"Image predict\")\n",
    "    ax[1].imshow(padded_mask[..., z], cmap=\"jet\", alpha=0.3)\n",
    "    # off the axis\n",
    "    ax[0].axis('off')\n",
    "    ax[1].axis('off')\n",
    "\n",
    "\n",
    "interact(lambda z: plot_image_mask_z(image, mask, image, seg, z), z=(0, image.shape[-1] - 1))"
   ]
  }
 ],
 "metadata": {
  "kernelspec": {
   "display_name": "tomodl",
   "language": "python",
   "name": "python3"
  },
  "language_info": {
   "codemirror_mode": {
    "name": "ipython",
    "version": 3
   },
   "file_extension": ".py",
   "mimetype": "text/x-python",
   "name": "python",
   "nbconvert_exporter": "python",
   "pygments_lexer": "ipython3",
   "version": "3.10.13"
  }
 },
 "nbformat": 4,
 "nbformat_minor": 5
}
